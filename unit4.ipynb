{
 "cells": [
  {
   "cell_type": "code",
   "id": "initial_id",
   "metadata": {
    "collapsed": true,
    "ExecuteTime": {
     "end_time": "2025-02-28T01:33:05.144447Z",
     "start_time": "2025-02-28T01:33:05.141939Z"
    }
   },
   "source": [
    "from email import policy\n",
    "\n",
    "import numpy as np\n",
    "import torch\n",
    "import torch.nn as nn\n",
    "import torch.nn.functional as F\n",
    "import torch.optim as optim\n",
    "from torch.distributions import Categorical\n",
    "\n",
    "# gym\n",
    "import gymnasium as gym\n",
    "\n"
   ],
   "outputs": [],
   "execution_count": 57
  },
  {
   "metadata": {
    "ExecuteTime": {
     "end_time": "2025-02-28T00:54:48.721869Z",
     "start_time": "2025-02-28T00:54:48.717155Z"
    }
   },
   "cell_type": "code",
   "source": [
    "device = torch.device(\"mps\" if torch.backends.mps.is_available() else \"cpu\")\n",
    "device"
   ],
   "id": "b0c9f9b24ac74e7f",
   "outputs": [
    {
     "data": {
      "text/plain": [
       "device(type='mps')"
      ]
     },
     "execution_count": 20,
     "metadata": {},
     "output_type": "execute_result"
    }
   ],
   "execution_count": 20
  },
  {
   "metadata": {
    "ExecuteTime": {
     "end_time": "2025-02-28T00:45:00.775483Z",
     "start_time": "2025-02-28T00:45:00.771516Z"
    }
   },
   "cell_type": "code",
   "source": [
    "env = gym.make('CartPole-v1')\n",
    "\n",
    "s_size = env.observation_space.shape[0]\n",
    "a_size = env.action_space.n"
   ],
   "id": "cc3f594bb5f4ed9b",
   "outputs": [],
   "execution_count": 8
  },
  {
   "metadata": {
    "ExecuteTime": {
     "end_time": "2025-02-28T00:45:41.951979Z",
     "start_time": "2025-02-28T00:45:41.948198Z"
    }
   },
   "cell_type": "code",
   "source": [
    "# Random observation\n",
    "print(f'Sample observation space: {env.observation_space.sample()}')\n",
    "\n",
    "# Random action\n",
    "print(f'Sample action space: {env.action_space.sample()}')"
   ],
   "id": "df34ab5458e4f779",
   "outputs": [
    {
     "name": "stdout",
     "output_type": "stream",
     "text": [
      "Sample observation space: [ 2.4349499  -0.80959326  0.25182483  0.8274455 ]\n",
      "Sample action space: 0\n"
     ]
    }
   ],
   "execution_count": 9
  },
  {
   "metadata": {
    "ExecuteTime": {
     "end_time": "2025-02-28T01:04:17.497434Z",
     "start_time": "2025-02-28T01:04:17.494485Z"
    }
   },
   "cell_type": "code",
   "source": [
    "class Policy(nn.Module):\n",
    "    def __init__(self, s_size, a_size, h_size):\n",
    "        super().__init__()\n",
    "        self.fc1 = nn.Linear(s_size, h_size)\n",
    "        self.fc2 = nn.Linear(h_size, a_size)\n",
    "    def forward(self, x):\n",
    "        x = F.relu(self.fc1(x))\n",
    "        x = self.fc2(x)\n",
    "        return F.softmax(x, dim=1)\n",
    "    def act(self, state):\n",
    "        state = torch.from_numpy(state).float().unsqueeze(0).to(device)\n",
    "        probs = self.forward(state)\n",
    "        m = Categorical(probs)\n",
    "        action = m.sample()\n",
    "        return action.item(), m.log_prob(action)"
   ],
   "id": "9124b72b8c6b1f3c",
   "outputs": [],
   "execution_count": 33
  },
  {
   "metadata": {
    "ExecuteTime": {
     "end_time": "2025-02-28T01:04:18.185916Z",
     "start_time": "2025-02-28T01:04:18.181695Z"
    }
   },
   "cell_type": "code",
   "source": [
    "sample_state = env.observation_space.sample()\n",
    "type(sample_state), sample_state.shape"
   ],
   "id": "46b78ead7078f944",
   "outputs": [
    {
     "data": {
      "text/plain": [
       "(numpy.ndarray, (4,))"
      ]
     },
     "execution_count": 34,
     "metadata": {},
     "output_type": "execute_result"
    }
   ],
   "execution_count": 34
  },
  {
   "metadata": {
    "ExecuteTime": {
     "end_time": "2025-02-28T01:04:18.718640Z",
     "start_time": "2025-02-28T01:04:18.700327Z"
    }
   },
   "cell_type": "code",
   "source": "torch.from_numpy(sample_state).float().unsqueeze(0).to(device) # We have increased an axis on 0",
   "id": "8cbdf9bdd72c0097",
   "outputs": [
    {
     "data": {
      "text/plain": [
       "tensor([[ 1.2423, -0.0079,  0.0352,  0.7644]], device='mps:0')"
      ]
     },
     "execution_count": 35,
     "metadata": {},
     "output_type": "execute_result"
    }
   ],
   "execution_count": 35
  },
  {
   "metadata": {
    "ExecuteTime": {
     "end_time": "2025-02-28T01:04:20.349260Z",
     "start_time": "2025-02-28T01:04:19.503944Z"
    }
   },
   "cell_type": "code",
   "source": [
    "debug_policy = Policy(s_size, a_size, 64).to(device)\n",
    "debug_policy.act(env.reset()[0])"
   ],
   "id": "1f4b7d3fb38af775",
   "outputs": [
    {
     "data": {
      "text/plain": [
       "(0, tensor([-0.7652], device='mps:0', grad_fn=<SqueezeBackward1>))"
      ]
     },
     "execution_count": 36,
     "metadata": {},
     "output_type": "execute_result"
    }
   ],
   "execution_count": 36
  },
  {
   "metadata": {
    "ExecuteTime": {
     "end_time": "2025-02-28T01:16:16.680896Z",
     "start_time": "2025-02-28T01:16:16.672891Z"
    }
   },
   "cell_type": "code",
   "source": [
    "from collections import deque\n",
    "def reinforce(policy, optimizer, n_training_episodes, max_t, gamma, print_every):\n",
    "    # Help us to calculate the score during the training\n",
    "    scores_deque = deque(maxlen=100)\n",
    "    scores = []\n",
    "    # Line 3 of pseudocode\n",
    "    for i_episode in range(1, n_training_episodes + 1):\n",
    "        saved_log_probs = []\n",
    "        rewards = []\n",
    "        state, _ = env.reset()\n",
    "        # Line 4 of pseudocode\n",
    "        for t in range(max_t):\n",
    "            action, log_prob = policy.act(state)\n",
    "            saved_log_probs.append(log_prob)\n",
    "            state, reward, terminated, truncated, info = env.step(action)\n",
    "            rewards.append(reward)\n",
    "            if terminated or truncated:\n",
    "                break\n",
    "        scores_deque.append(sum(rewards))\n",
    "        scores.append(sum(rewards))\n",
    "\n",
    "        # Line 6 of pseudocode: calculate the return\n",
    "        returns = deque(maxlen=max_t)\n",
    "        n_steps = len(rewards)\n",
    "        # Compute the discounted returns at each timestep,\n",
    "        # as\n",
    "        #      the sum of the gamma-discounted return at time t (G_t) + the reward at time t\n",
    "        #\n",
    "        # In O(N) time, where N is the number of time steps\n",
    "        # (this definition of the discounted return G_t follows the definition of this quantity\n",
    "        # shown at page 44 of Sutton&Barto 2017 2nd draft)\n",
    "        # G_t = r_(t+1) + r_(t+2) + ...\n",
    "\n",
    "        # Given this formulation, the returns at each timestep t can be computed\n",
    "        # by re-using the computed future returns G_(t+1) to compute the current return G_t\n",
    "        # G_t = r_(t+1) + gamma*G_(t+1)\n",
    "        # G_(t-1) = r_t + gamma* G_t\n",
    "        # (this follows a dynamic programming approach, with which we memorize solutions in order\n",
    "        # to avoid computing them multiple times)\n",
    "\n",
    "        # This is correct since the above is equivalent to (see also page 46 of Sutton&Barto 2017 2nd draft)\n",
    "        # G_(t-1) = r_t + gamma*r_(t+1) + gamma*gamma*r_(t+2) + ...\n",
    "\n",
    "        ## Given the above, we calculate the returns at timestep t as:\n",
    "        #               gamma[t] * return[t] + reward[t]\n",
    "        #\n",
    "        ## We compute this starting from the last timestep to the first, in order\n",
    "        ## to employ the formula presented above and avoid redundant computations that would be needed\n",
    "        ## if we were to do it from first to last.\n",
    "\n",
    "        ## Hence, the queue \"returns\" will hold the returns in chronological order, from t=0 to t=n_steps\n",
    "        ## thanks to the appendleft() function which allows to append to the position 0 in constant time O(1)\n",
    "        ## a normal python list would instead require O(N) to do this.\n",
    "        for t in range(n_steps)[::-1]:\n",
    "            disc_return_t = returns[0] if len(returns) > 0 else 0\n",
    "            returns.appendleft(gamma * disc_return_t + rewards[t])\n",
    "\n",
    "        ## standardization of the returns is employed to make training more stable\n",
    "        eps = np.finfo(np.float32).eps.item()\n",
    "        ## eps is the smallest representable float, which is\n",
    "        # added to the standard deviation of the returns to avoid numerical instabilities\n",
    "        returns = torch.tensor(returns)\n",
    "        returns = (returns - returns.mean()) / (returns.std() + eps)\n",
    "\n",
    "        # Line 7:\n",
    "        policy_loss = []\n",
    "        for log_prob, disc_return in zip(saved_log_probs, returns):\n",
    "            policy_loss.append(-log_prob * disc_return)\n",
    "        policy_loss = torch.cat(policy_loss).sum()\n",
    "\n",
    "        # Line 8: PyTorch prefers gradient descent\n",
    "        optimizer.zero_grad()\n",
    "        policy_loss.backward()\n",
    "        optimizer.step()\n",
    "\n",
    "        if i_episode % print_every == 0:\n",
    "            print(\"Episode {}\\tAverage Score: {:.2f}\".format(i_episode, np.mean(scores_deque)))\n",
    "\n",
    "    return scores"
   ],
   "id": "f1694a38f2f722d6",
   "outputs": [],
   "execution_count": 46
  },
  {
   "metadata": {
    "ExecuteTime": {
     "end_time": "2025-02-28T01:16:17.469793Z",
     "start_time": "2025-02-28T01:16:17.466711Z"
    }
   },
   "cell_type": "code",
   "source": [
    "cartpole_hyperparameters = {\n",
    "    \"h_size\": 16,\n",
    "    \"n_training_episodes\": 1000,\n",
    "    \"n_evaluation_episodes\": 10,\n",
    "    \"max_t\": 1000,\n",
    "    \"gamma\": 1.0,\n",
    "    \"lr\": 1e-2,\n",
    "    \"env_id\": 'CartPole-v1',\n",
    "    \"state_space\": s_size,\n",
    "    \"action_space\": a_size,\n",
    "}"
   ],
   "id": "21a37008b9cc9cdb",
   "outputs": [],
   "execution_count": 47
  },
  {
   "metadata": {
    "ExecuteTime": {
     "end_time": "2025-02-28T01:16:18.017571Z",
     "start_time": "2025-02-28T01:16:18.008419Z"
    }
   },
   "cell_type": "code",
   "source": [
    "cartpole_policy = Policy(\n",
    "    cartpole_hyperparameters[\"state_space\"],\n",
    "    cartpole_hyperparameters[\"action_space\"],\n",
    "    cartpole_hyperparameters[\"h_size\"],\n",
    ").to(device)\n",
    "cartpole_optimizer = optim.Adam(cartpole_policy.parameters(), lr=cartpole_hyperparameters[\"lr\"])"
   ],
   "id": "a6a8e7d6b7116e29",
   "outputs": [],
   "execution_count": 48
  },
  {
   "metadata": {
    "ExecuteTime": {
     "end_time": "2025-02-28T01:24:24.413381Z",
     "start_time": "2025-02-28T01:16:18.854846Z"
    }
   },
   "cell_type": "code",
   "source": [
    "scores = reinforce(\n",
    "    cartpole_policy,\n",
    "    cartpole_optimizer,\n",
    "    cartpole_hyperparameters[\"n_training_episodes\"],\n",
    "    cartpole_hyperparameters[\"max_t\"],\n",
    "    cartpole_hyperparameters[\"gamma\"],\n",
    "    100\n",
    ")"
   ],
   "id": "2de7089b2f92d192",
   "outputs": [
    {
     "name": "stdout",
     "output_type": "stream",
     "text": [
      "Episode 100\tAverage Score: 19.91\n",
      "Episode 200\tAverage Score: 63.45\n",
      "Episode 300\tAverage Score: 110.11\n",
      "Episode 400\tAverage Score: 101.57\n",
      "Episode 500\tAverage Score: 130.59\n",
      "Episode 600\tAverage Score: 224.86\n",
      "Episode 700\tAverage Score: 179.57\n",
      "Episode 800\tAverage Score: 209.90\n",
      "Episode 900\tAverage Score: 479.66\n",
      "Episode 1000\tAverage Score: 176.25\n"
     ]
    }
   ],
   "execution_count": 49
  },
  {
   "metadata": {
    "ExecuteTime": {
     "end_time": "2025-02-28T01:25:05.112054Z",
     "start_time": "2025-02-28T01:25:05.107816Z"
    }
   },
   "cell_type": "code",
   "source": [
    "def evaluate_agent(env, max_steps, n_eval_episodes, policy):\n",
    "    episode_rewards = []\n",
    "    for episode in range(n_eval_episodes):\n",
    "        state, info = env.reset()\n",
    "        step = 0\n",
    "        terminated = False\n",
    "        total_rewards_ep = 0\n",
    "\n",
    "        for step in range(max_steps):\n",
    "            action, _ = policy.act(state)\n",
    "            new_state, reward, terminated, truncated, info = env.step(action)\n",
    "            total_rewards_ep += reward\n",
    "            if terminated or truncated: break\n",
    "            state = new_state\n",
    "        episode_rewards.append(total_rewards_ep)\n",
    "    mean_reward = np.mean(episode_rewards)\n",
    "    std_reward = np.std(episode_rewards)\n",
    "\n",
    "    return mean_reward, std_reward"
   ],
   "id": "464b2c835542ac49",
   "outputs": [],
   "execution_count": 50
  },
  {
   "metadata": {
    "ExecuteTime": {
     "end_time": "2025-02-28T01:26:15.560942Z",
     "start_time": "2025-02-28T01:25:37.988747Z"
    }
   },
   "cell_type": "code",
   "source": "evaluate_agent(env=env, max_steps=cartpole_hyperparameters['max_t'], n_eval_episodes=100, policy=cartpole_policy)",
   "id": "39f3d6a063b9f69",
   "outputs": [
    {
     "data": {
      "text/plain": [
       "(np.float64(167.52), np.float64(22.053788790137624))"
      ]
     },
     "execution_count": 51,
     "metadata": {},
     "output_type": "execute_result"
    }
   ],
   "execution_count": 51
  },
  {
   "metadata": {
    "ExecuteTime": {
     "end_time": "2025-02-28T01:51:54.772691Z",
     "start_time": "2025-02-28T01:51:54.769720Z"
    }
   },
   "cell_type": "code",
   "source": [
    "from huggingface_hub import HfApi, snapshot_download, notebook_login\n",
    "from huggingface_hub.repocard import metadata_eval_result, metadata_save\n",
    "\n",
    "from pathlib import Path\n",
    "import datetime\n",
    "import json\n",
    "import imageio\n",
    "import tempfile\n",
    "import os\n"
   ],
   "id": "4b738b7dfeb6359e",
   "outputs": [],
   "execution_count": 98
  },
  {
   "metadata": {
    "ExecuteTime": {
     "end_time": "2025-02-28T01:51:55.370016Z",
     "start_time": "2025-02-28T01:51:55.367211Z"
    }
   },
   "cell_type": "code",
   "source": [
    "# def record_video(env, policy, out_dir, fps=30):\n",
    "#     images = []\n",
    "#     terminated = False\n",
    "#     state, info = env.reset()\n",
    "#     img = env.render()\n",
    "#     images.append(img)\n",
    "#     while not terminated:\n",
    "#         action, _ = policy.act(state)\n",
    "#         new_state, reward, terminated, truncated, info = env.step(action)\n",
    "#         img = env.render()\n",
    "#         images.append(img)\n",
    "#     imageio.mimsave(f'{out_dir}', [np.array(img) for i, img in enumerate(images)], fps=fps)\n"
   ],
   "id": "e47aad2fe49906a1",
   "outputs": [],
   "execution_count": 99
  },
  {
   "metadata": {
    "ExecuteTime": {
     "end_time": "2025-02-28T01:51:55.858092Z",
     "start_time": "2025-02-28T01:51:55.855517Z"
    }
   },
   "cell_type": "code",
   "source": "env_id = 'CartPole-v1'",
   "id": "1ae6d609961c6e1c",
   "outputs": [],
   "execution_count": 100
  },
  {
   "metadata": {
    "ExecuteTime": {
     "end_time": "2025-02-28T01:51:56.728784Z",
     "start_time": "2025-02-28T01:51:56.721394Z"
    }
   },
   "cell_type": "code",
   "source": [
    "def push_to_hub(repo_id,\n",
    "                model,\n",
    "                hyperparameters,\n",
    "                eval_env,\n",
    "                video_fps=30\n",
    "                ):\n",
    "  \"\"\"\n",
    "  Evaluate, Generate a video and Upload a model to Hugging Face Hub.\n",
    "  This method does the complete pipeline:\n",
    "  - It evaluates the model\n",
    "  - It generates the model card\n",
    "  - It generates a replay video of the agent\n",
    "  - It pushes everything to the Hub\n",
    "\n",
    "  :param repo_id: repo_id: id of the model repository from the Hugging Face Hub\n",
    "  :param model: the pytorch model we want to save\n",
    "  :param hyperparameters: training hyperparameters\n",
    "  :param eval_env: evaluation environment\n",
    "  :param video_fps: how many frame per seconds to record our video replay\n",
    "  \"\"\"\n",
    "\n",
    "  _, repo_name = repo_id.split(\"/\")\n",
    "  api = HfApi()\n",
    "\n",
    "  # Step 1: Create the repo\n",
    "  repo_url = api.create_repo(\n",
    "        repo_id=repo_id,\n",
    "        exist_ok=True,\n",
    "  )\n",
    "\n",
    "  with tempfile.TemporaryDirectory() as tmpdirname:\n",
    "    local_directory = Path(tmpdirname)\n",
    "\n",
    "    # Step 2: Save the model\n",
    "    torch.save(model, local_directory / \"model.pt\")\n",
    "\n",
    "    # Step 3: Save the hyperparameters to JSON\n",
    "    with open(local_directory / \"hyperparameters.json\", \"w\") as outfile:\n",
    "      json.dump(hyperparameters, outfile)\n",
    "\n",
    "    # Step 4: Evaluate the model and build JSON\n",
    "    mean_reward, std_reward = evaluate_agent(eval_env,\n",
    "                                            hyperparameters[\"max_t\"],\n",
    "                                            hyperparameters[\"n_evaluation_episodes\"],\n",
    "                                            model)\n",
    "    # Get datetime\n",
    "    eval_datetime = datetime.datetime.now()\n",
    "    eval_form_datetime = eval_datetime.isoformat()\n",
    "\n",
    "    evaluate_data = {\n",
    "          \"env_id\": hyperparameters[\"env_id\"],\n",
    "          \"mean_reward\": mean_reward,\n",
    "          \"n_evaluation_episodes\": hyperparameters[\"n_evaluation_episodes\"],\n",
    "          \"eval_datetime\": eval_form_datetime,\n",
    "    }\n",
    "\n",
    "    # Write a JSON file\n",
    "    with open(local_directory / \"results.json\", \"w\") as outfile:\n",
    "        json.dump(evaluate_data, outfile)\n",
    "\n",
    "    # Step 5: Create the model card\n",
    "    env_name = hyperparameters[\"env_id\"]\n",
    "\n",
    "    metadata = {}\n",
    "    metadata[\"tags\"] = [\n",
    "          env_name,\n",
    "          \"reinforce\",\n",
    "          \"reinforcement-learning\",\n",
    "          \"custom-implementation\",\n",
    "          \"deep-rl-class\"\n",
    "      ]\n",
    "\n",
    "    # Add metrics\n",
    "    eval = metadata_eval_result(\n",
    "        model_pretty_name=repo_name,\n",
    "        task_pretty_name=\"reinforcement-learning\",\n",
    "        task_id=\"reinforcement-learning\",\n",
    "        metrics_pretty_name=\"mean_reward\",\n",
    "        metrics_id=\"mean_reward\",\n",
    "        metrics_value=f\"{mean_reward:.2f} +/- {std_reward:.2f}\",\n",
    "        dataset_pretty_name=env_name,\n",
    "        dataset_id=env_name,\n",
    "      )\n",
    "\n",
    "    # Merges both dictionaries\n",
    "    metadata = {**metadata, **eval}\n",
    "\n",
    "    model_card = f\"\"\"\n",
    "  # **Reinforce** Agent playing **{env_id}**\n",
    "  This is a trained model of a **Reinforce** agent playing **{env_id}** .\n",
    "  To learn to use this model and train yours check Unit 4 of the Deep Reinforcement Learning Course: https://huggingface.co/deep-rl-course/unit4/introduction\n",
    "  \"\"\"\n",
    "\n",
    "    readme_path = local_directory / \"README.md\"\n",
    "    readme = \"\"\n",
    "    if readme_path.exists():\n",
    "        with readme_path.open(\"r\", encoding=\"utf8\") as f:\n",
    "          readme = f.read()\n",
    "    else:\n",
    "      readme = model_card\n",
    "\n",
    "    with readme_path.open(\"w\", encoding=\"utf-8\") as f:\n",
    "      f.write(readme)\n",
    "\n",
    "    # Save our metrics to Readme metadata\n",
    "    metadata_save(readme_path, metadata)\n",
    "\n",
    "    # Step 6: Record a video\n",
    "    video_path =  local_directory / \"replay.mp4\"\n",
    "    record_video(env, model, video_path, video_fps)\n",
    "\n",
    "    # Step 7. Push everything to the Hub\n",
    "    api.upload_folder(\n",
    "          repo_id=repo_id,\n",
    "          folder_path=local_directory,\n",
    "          path_in_repo=\".\",\n",
    "    )\n",
    "\n",
    "    print(f\"Your model is pushed to the Hub. You can view your model here: {repo_url}\")"
   ],
   "id": "cc88f6b40cabf807",
   "outputs": [],
   "execution_count": 101
  },
  {
   "metadata": {
    "ExecuteTime": {
     "end_time": "2025-02-28T01:51:57.546910Z",
     "start_time": "2025-02-28T01:51:57.543589Z"
    }
   },
   "cell_type": "code",
   "source": "eval_env = gym.make(env_id)",
   "id": "cffdcb9e4cbd4e2e",
   "outputs": [],
   "execution_count": 102
  },
  {
   "metadata": {
    "ExecuteTime": {
     "end_time": "2025-02-28T01:51:58.553697Z",
     "start_time": "2025-02-28T01:51:58.549646Z"
    }
   },
   "cell_type": "code",
   "source": [
    "import json\n",
    "cartpole_hyperparameters = {\n",
    "    \"h_size\": 16,\n",
    "    \"n_training_episodes\": 1000,\n",
    "    \"n_evaluation_episodes\": 10,\n",
    "    \"max_t\": 1000,\n",
    "    \"gamma\": 1.0,\n",
    "    \"lr\": 1e-2,\n",
    "    \"env_id\": 'CartPole-v1',\n",
    "    \"state_space\": int(s_size),\n",
    "    \"action_space\": int(a_size),\n",
    "}\n",
    "json.dumps(cartpole_hyperparameters)"
   ],
   "id": "ed2f11ddc2578345",
   "outputs": [
    {
     "data": {
      "text/plain": [
       "'{\"h_size\": 16, \"n_training_episodes\": 1000, \"n_evaluation_episodes\": 10, \"max_t\": 1000, \"gamma\": 1.0, \"lr\": 0.01, \"env_id\": \"CartPole-v1\", \"state_space\": 4, \"action_space\": 2}'"
      ]
     },
     "execution_count": 103,
     "metadata": {},
     "output_type": "execute_result"
    }
   ],
   "execution_count": 103
  },
  {
   "metadata": {
    "ExecuteTime": {
     "end_time": "2025-02-28T01:58:36.858882Z",
     "start_time": "2025-02-28T01:58:36.854235Z"
    }
   },
   "cell_type": "code",
   "source": [
    "def record_video(env, policy, out_directory, fps=30):\n",
    "    \"\"\"\n",
    "    Record a video of the agent playing in the environment.\n",
    "\n",
    "    :param env: Gymnasium environment\n",
    "    :param policy: Trained policy (Q-table or model)\n",
    "    :param out_directory: Path to save the video\n",
    "    :param fps: Frames per second\n",
    "    \"\"\"\n",
    "    images = []\n",
    "    terminated, truncated = False, False\n",
    "\n",
    "    state, info = env.reset(seed=random.randint(0, 500))\n",
    "\n",
    "    # Get the first frame correctly\n",
    "    img = env.render()  # For some environments\n",
    "    if isinstance(img, dict) and \"rgb_array\" in img:\n",
    "        img = img[\"rgb_array\"]  # Extract RGB array if returned as dict\n",
    "    images.append(img)\n",
    "\n",
    "    while not (terminated or truncated):\n",
    "        action, _ = policy.act(state)  # Ensure policy provides valid action\n",
    "        state, reward, terminated, truncated, info = env.step(action)\n",
    "\n",
    "        img = env.render()\n",
    "        if isinstance(img, dict) and \"rgb_array\" in img:\n",
    "            img = img[\"rgb_array\"]  # Extract RGB array if necessary\n",
    "\n",
    "        images.append(img)\n",
    "\n",
    "    imageio.mimsave(out_directory, images, fps=fps)"
   ],
   "id": "d59f652090d85d12",
   "outputs": [],
   "execution_count": 110
  },
  {
   "metadata": {
    "ExecuteTime": {
     "end_time": "2025-02-28T01:58:57.281340Z",
     "start_time": "2025-02-28T01:58:57.277988Z"
    }
   },
   "cell_type": "code",
   "source": "eval_env = gym.make(env_id, render_mode='rgb_array')",
   "id": "1afc971b5158b21a",
   "outputs": [],
   "execution_count": 111
  },
  {
   "metadata": {
    "ExecuteTime": {
     "end_time": "2025-02-28T01:59:15.816502Z",
     "start_time": "2025-02-28T01:59:12.009143Z"
    }
   },
   "cell_type": "code",
   "source": [
    "import random\n",
    "repo_id = \"m3dus2/Reinforce-cartpole-v1\"\n",
    "push_to_hub(\n",
    "    repo_id,\n",
    "    cartpole_policy,  # The model we want to save\n",
    "    cartpole_hyperparameters,  # Hyperparameters\n",
    "    eval_env,  # Evaluation environment\n",
    "    video_fps=30\n",
    ")"
   ],
   "id": "6459850205ca1976",
   "outputs": [
    {
     "ename": "ValueError",
     "evalue": "The image must have at least two spatial dimensions.",
     "output_type": "error",
     "traceback": [
      "\u001B[0;31m---------------------------------------------------------------------------\u001B[0m",
      "\u001B[0;31mValueError\u001B[0m                                Traceback (most recent call last)",
      "Cell \u001B[0;32mIn[113], line 3\u001B[0m\n\u001B[1;32m      1\u001B[0m \u001B[38;5;28;01mimport\u001B[39;00m\u001B[38;5;250m \u001B[39m\u001B[38;5;21;01mrandom\u001B[39;00m\n\u001B[1;32m      2\u001B[0m repo_id \u001B[38;5;241m=\u001B[39m \u001B[38;5;124m\"\u001B[39m\u001B[38;5;124mm3dus2/Reinforce-cartpole-v1\u001B[39m\u001B[38;5;124m\"\u001B[39m\n\u001B[0;32m----> 3\u001B[0m \u001B[43mpush_to_hub\u001B[49m\u001B[43m(\u001B[49m\n\u001B[1;32m      4\u001B[0m \u001B[43m    \u001B[49m\u001B[43mrepo_id\u001B[49m\u001B[43m,\u001B[49m\n\u001B[1;32m      5\u001B[0m \u001B[43m    \u001B[49m\u001B[43mcartpole_policy\u001B[49m\u001B[43m,\u001B[49m\u001B[43m  \u001B[49m\u001B[38;5;66;43;03m# The model we want to save\u001B[39;49;00m\n\u001B[1;32m      6\u001B[0m \u001B[43m    \u001B[49m\u001B[43mcartpole_hyperparameters\u001B[49m\u001B[43m,\u001B[49m\u001B[43m  \u001B[49m\u001B[38;5;66;43;03m# Hyperparameters\u001B[39;49;00m\n\u001B[1;32m      7\u001B[0m \u001B[43m    \u001B[49m\u001B[43meval_env\u001B[49m\u001B[43m,\u001B[49m\u001B[43m  \u001B[49m\u001B[38;5;66;43;03m# Evaluation environment\u001B[39;49;00m\n\u001B[1;32m      8\u001B[0m \u001B[43m    \u001B[49m\u001B[43mvideo_fps\u001B[49m\u001B[38;5;241;43m=\u001B[39;49m\u001B[38;5;241;43m30\u001B[39;49m\n\u001B[1;32m      9\u001B[0m \u001B[43m)\u001B[49m\n",
      "Cell \u001B[0;32mIn[101], line 110\u001B[0m, in \u001B[0;36mpush_to_hub\u001B[0;34m(repo_id, model, hyperparameters, eval_env, video_fps)\u001B[0m\n\u001B[1;32m    108\u001B[0m \u001B[38;5;66;03m# Step 6: Record a video\u001B[39;00m\n\u001B[1;32m    109\u001B[0m video_path \u001B[38;5;241m=\u001B[39m  local_directory \u001B[38;5;241m/\u001B[39m \u001B[38;5;124m\"\u001B[39m\u001B[38;5;124mreplay.mp4\u001B[39m\u001B[38;5;124m\"\u001B[39m\n\u001B[0;32m--> 110\u001B[0m \u001B[43mrecord_video\u001B[49m\u001B[43m(\u001B[49m\u001B[43menv\u001B[49m\u001B[43m,\u001B[49m\u001B[43m \u001B[49m\u001B[43mmodel\u001B[49m\u001B[43m,\u001B[49m\u001B[43m \u001B[49m\u001B[43mvideo_path\u001B[49m\u001B[43m,\u001B[49m\u001B[43m \u001B[49m\u001B[43mvideo_fps\u001B[49m\u001B[43m)\u001B[49m\n\u001B[1;32m    112\u001B[0m \u001B[38;5;66;03m# Step 7. Push everything to the Hub\u001B[39;00m\n\u001B[1;32m    113\u001B[0m api\u001B[38;5;241m.\u001B[39mupload_folder(\n\u001B[1;32m    114\u001B[0m       repo_id\u001B[38;5;241m=\u001B[39mrepo_id,\n\u001B[1;32m    115\u001B[0m       folder_path\u001B[38;5;241m=\u001B[39mlocal_directory,\n\u001B[1;32m    116\u001B[0m       path_in_repo\u001B[38;5;241m=\u001B[39m\u001B[38;5;124m\"\u001B[39m\u001B[38;5;124m.\u001B[39m\u001B[38;5;124m\"\u001B[39m,\n\u001B[1;32m    117\u001B[0m )\n",
      "Cell \u001B[0;32mIn[110], line 31\u001B[0m, in \u001B[0;36mrecord_video\u001B[0;34m(env, policy, out_directory, fps)\u001B[0m\n\u001B[1;32m     27\u001B[0m         img \u001B[38;5;241m=\u001B[39m img[\u001B[38;5;124m\"\u001B[39m\u001B[38;5;124mrgb_array\u001B[39m\u001B[38;5;124m\"\u001B[39m]  \u001B[38;5;66;03m# Extract RGB array if necessary\u001B[39;00m\n\u001B[1;32m     29\u001B[0m     images\u001B[38;5;241m.\u001B[39mappend(img)\n\u001B[0;32m---> 31\u001B[0m \u001B[43mimageio\u001B[49m\u001B[38;5;241;43m.\u001B[39;49m\u001B[43mmimsave\u001B[49m\u001B[43m(\u001B[49m\u001B[43mout_directory\u001B[49m\u001B[43m,\u001B[49m\u001B[43m \u001B[49m\u001B[43mimages\u001B[49m\u001B[43m,\u001B[49m\u001B[43m \u001B[49m\u001B[43mfps\u001B[49m\u001B[38;5;241;43m=\u001B[39;49m\u001B[43mfps\u001B[49m\u001B[43m)\u001B[49m\n",
      "File \u001B[0;32m/opt/anaconda3/envs/reinforcement-learning/lib/python3.13/site-packages/imageio/v2.py:495\u001B[0m, in \u001B[0;36mmimwrite\u001B[0;34m(uri, ims, format, **kwargs)\u001B[0m\n\u001B[1;32m    493\u001B[0m imopen_args[\u001B[38;5;124m\"\u001B[39m\u001B[38;5;124mlegacy_mode\u001B[39m\u001B[38;5;124m\"\u001B[39m] \u001B[38;5;241m=\u001B[39m \u001B[38;5;28;01mTrue\u001B[39;00m\n\u001B[1;32m    494\u001B[0m \u001B[38;5;28;01mwith\u001B[39;00m imopen(uri, \u001B[38;5;124m\"\u001B[39m\u001B[38;5;124mwI\u001B[39m\u001B[38;5;124m\"\u001B[39m, \u001B[38;5;241m*\u001B[39m\u001B[38;5;241m*\u001B[39mimopen_args) \u001B[38;5;28;01mas\u001B[39;00m file:\n\u001B[0;32m--> 495\u001B[0m     \u001B[38;5;28;01mreturn\u001B[39;00m \u001B[43mfile\u001B[49m\u001B[38;5;241;43m.\u001B[39;49m\u001B[43mwrite\u001B[49m\u001B[43m(\u001B[49m\u001B[43mims\u001B[49m\u001B[43m,\u001B[49m\u001B[43m \u001B[49m\u001B[43mis_batch\u001B[49m\u001B[38;5;241;43m=\u001B[39;49m\u001B[38;5;28;43;01mTrue\u001B[39;49;00m\u001B[43m,\u001B[49m\u001B[43m \u001B[49m\u001B[38;5;241;43m*\u001B[39;49m\u001B[38;5;241;43m*\u001B[39;49m\u001B[43mkwargs\u001B[49m\u001B[43m)\u001B[49m\n",
      "File \u001B[0;32m/opt/anaconda3/envs/reinforcement-learning/lib/python3.13/site-packages/imageio/core/legacy_plugin_wrapper.py:242\u001B[0m, in \u001B[0;36mLegacyPlugin.write\u001B[0;34m(self, ndimage, is_batch, metadata, **kwargs)\u001B[0m\n\u001B[1;32m    239\u001B[0m image \u001B[38;5;241m=\u001B[39m np\u001B[38;5;241m.\u001B[39masanyarray(image)\n\u001B[1;32m    241\u001B[0m \u001B[38;5;28;01mif\u001B[39;00m image\u001B[38;5;241m.\u001B[39mndim \u001B[38;5;241m<\u001B[39m \u001B[38;5;241m2\u001B[39m:\n\u001B[0;32m--> 242\u001B[0m     \u001B[38;5;28;01mraise\u001B[39;00m \u001B[38;5;167;01mValueError\u001B[39;00m(\n\u001B[1;32m    243\u001B[0m         \u001B[38;5;124m\"\u001B[39m\u001B[38;5;124mThe image must have at least two spatial dimensions.\u001B[39m\u001B[38;5;124m\"\u001B[39m\n\u001B[1;32m    244\u001B[0m     )\n\u001B[1;32m    246\u001B[0m \u001B[38;5;28;01mif\u001B[39;00m \u001B[38;5;129;01mnot\u001B[39;00m np\u001B[38;5;241m.\u001B[39missubdtype(image\u001B[38;5;241m.\u001B[39mdtype, np\u001B[38;5;241m.\u001B[39mnumber) \u001B[38;5;129;01mand\u001B[39;00m \u001B[38;5;129;01mnot\u001B[39;00m np\u001B[38;5;241m.\u001B[39missubdtype(\n\u001B[1;32m    247\u001B[0m     image\u001B[38;5;241m.\u001B[39mdtype, \u001B[38;5;28mbool\u001B[39m\n\u001B[1;32m    248\u001B[0m ):\n\u001B[1;32m    249\u001B[0m     \u001B[38;5;28;01mraise\u001B[39;00m \u001B[38;5;167;01mValueError\u001B[39;00m(\n\u001B[1;32m    250\u001B[0m         \u001B[38;5;124mf\u001B[39m\u001B[38;5;124m\"\u001B[39m\u001B[38;5;124mAll images have to be numeric, and not `\u001B[39m\u001B[38;5;132;01m{\u001B[39;00mimage\u001B[38;5;241m.\u001B[39mdtype\u001B[38;5;132;01m}\u001B[39;00m\u001B[38;5;124m`.\u001B[39m\u001B[38;5;124m\"\u001B[39m\n\u001B[1;32m    251\u001B[0m     )\n",
      "\u001B[0;31mValueError\u001B[0m: The image must have at least two spatial dimensions."
     ]
    }
   ],
   "execution_count": 113
  },
  {
   "metadata": {},
   "cell_type": "code",
   "outputs": [],
   "execution_count": null,
   "source": "",
   "id": "3ad8f734c6dd938"
  }
 ],
 "metadata": {
  "kernelspec": {
   "display_name": "Python 3",
   "language": "python",
   "name": "python3"
  },
  "language_info": {
   "codemirror_mode": {
    "name": "ipython",
    "version": 2
   },
   "file_extension": ".py",
   "mimetype": "text/x-python",
   "name": "python",
   "nbconvert_exporter": "python",
   "pygments_lexer": "ipython2",
   "version": "2.7.6"
  }
 },
 "nbformat": 4,
 "nbformat_minor": 5
}
