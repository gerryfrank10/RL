{
 "cells": [
  {
   "cell_type": "code",
   "id": "initial_id",
   "metadata": {
    "collapsed": true,
    "ExecuteTime": {
     "end_time": "2025-01-17T21:28:47.625225Z",
     "start_time": "2025-01-17T21:28:47.358904Z"
    }
   },
   "source": [
    "import numpy as np\n",
    "from scipy import linalg"
   ],
   "outputs": [],
   "execution_count": 1
  },
  {
   "metadata": {
    "ExecuteTime": {
     "end_time": "2025-01-17T21:32:07.449329Z",
     "start_time": "2025-01-17T21:32:07.444558Z"
    }
   },
   "cell_type": "code",
   "source": [
    "n_states: int = 3\n",
    "P = np.zeros((n_states, n_states), np.float32)\n",
    "P[0, 1] = 0.7\n",
    "P[0, 2] = 0.3\n",
    "P[1, 0] = 0.5\n",
    "P[1, 2] = 0.5\n",
    "P[2, 1] = 0.1\n",
    "P[2, 2] = 0.9\n",
    "print(P)"
   ],
   "id": "bb128a784476d010",
   "outputs": [
    {
     "name": "stdout",
     "output_type": "stream",
     "text": [
      "[[0.  0.7 0.3]\n",
      " [0.5 0.  0.5]\n",
      " [0.  0.1 0.9]]\n"
     ]
    }
   ],
   "execution_count": 2
  },
  {
   "metadata": {
    "ExecuteTime": {
     "end_time": "2025-01-17T21:34:14.016447Z",
     "start_time": "2025-01-17T21:34:14.013343Z"
    }
   },
   "cell_type": "code",
   "source": "assert ((np.sum(P, axis=1) == 1).all())",
   "id": "b2d1fd14c569d78a",
   "outputs": [],
   "execution_count": 9
  },
  {
   "metadata": {
    "ExecuteTime": {
     "end_time": "2025-01-17T21:35:52.234472Z",
     "start_time": "2025-01-17T21:35:52.231049Z"
    }
   },
   "cell_type": "code",
   "source": [
    "R = np.zeros((n_states, n_states), np.float32)\n",
    "R[0,1] = 1\n",
    "R[0,2] = 10\n",
    "R[1,0] = 0\n",
    "R[1,2] = 1\n",
    "R[2,1] = -1\n",
    "R[2,2] = 10\n",
    "R_expected = np.sum(P * R, axis=1, keepdims=True)\n",
    "print(R_expected)"
   ],
   "id": "36898a72af0b04a1",
   "outputs": [
    {
     "name": "stdout",
     "output_type": "stream",
     "text": [
      "[[3.7]\n",
      " [0.5]\n",
      " [8.9]]\n"
     ]
    }
   ],
   "execution_count": 10
  },
  {
   "metadata": {
    "ExecuteTime": {
     "end_time": "2025-01-17T21:38:34.070820Z",
     "start_time": "2025-01-17T21:38:34.066785Z"
    }
   },
   "cell_type": "code",
   "source": [
    "\"\"\"\n",
    "Now Bellman Equation\n",
    "Ax = b where A = (1 - gamma)P and b = R\n",
    "\"\"\"\n",
    "gamma = 0.9\n",
    "A = np.eye(n_states) - gamma * P\n",
    "B = R_expected\n",
    "V = linalg.solve(A, B)\n",
    "print(V)"
   ],
   "id": "fe8f3b4a9528a0cf",
   "outputs": [
    {
     "name": "stdout",
     "output_type": "stream",
     "text": [
      "[[65.54069695]\n",
      " [64.90787279]\n",
      " [77.58791305]]\n"
     ]
    }
   ],
   "execution_count": 11
  },
  {
   "metadata": {
    "ExecuteTime": {
     "end_time": "2025-01-17T22:36:48.927078Z",
     "start_time": "2025-01-17T22:36:48.923125Z"
    }
   },
   "cell_type": "code",
   "source": [
    "\"\"\"\n",
    "MDP (SARP𝜞)\n",
    "where S is set of states\n",
    "      A is set of actions\n",
    "      R is reward function\n",
    "      P is transition probability function\n",
    "      gamma is discount factor associated with future rewards\n",
    "\"\"\"\n",
    "# Example\n",
    "n_states = 6\n",
    "P_pi = np.zeros((n_states, n_states), np.float32)\n",
    "R = np.zeros_like(P_pi)\n",
    "P_pi[0, 1] = 0.5\n",
    "P_pi[0, 3] = 0.5\n",
    "P_pi[1, 2] = 0.5\n",
    "P_pi[1, 5] = 0.5\n",
    "P_pi[2, 4] = 0.5\n",
    "P_pi[2, 5] = 0.5\n",
    "P_pi[4, 5] = 0.5\n",
    "P_pi[4, 0] = 0.5\n",
    "P_pi[3, 0] = 0.5\n",
    "P_pi[3, 3] = 0.5\n",
    "P_pi[5, 5] = 1\n",
    "print(P_pi)"
   ],
   "id": "3ca64f1511b098d7",
   "outputs": [
    {
     "name": "stdout",
     "output_type": "stream",
     "text": [
      "[[0.  0.5 0.  0.5 0.  0. ]\n",
      " [0.  0.  0.5 0.  0.  0.5]\n",
      " [0.  0.  0.  0.  0.5 0.5]\n",
      " [0.5 0.  0.  0.5 0.  0. ]\n",
      " [0.5 0.  0.  0.  0.  0.5]\n",
      " [0.  0.  0.  0.  0.  1. ]]\n"
     ]
    }
   ],
   "execution_count": 12
  },
  {
   "metadata": {
    "ExecuteTime": {
     "end_time": "2025-01-17T22:37:22.148931Z",
     "start_time": "2025-01-17T22:37:22.145401Z"
    }
   },
   "cell_type": "code",
   "source": [
    "# Reward Matrix\n",
    "R[0, 1] = -2\n",
    "R[0, 3] = -1\n",
    "R[1, 2] = -2\n",
    "R[1, 5] = 0\n",
    "R[2, 4] = 15\n",
    "R[2, 5] = 10\n",
    "R[4, 5] = 10\n",
    "R[4, 0] = -10\n",
    "R[3, 3] = -1\n",
    "R[3, 0] = -3\n",
    "print(R)"
   ],
   "id": "e8fe05b3d3e647c8",
   "outputs": [
    {
     "name": "stdout",
     "output_type": "stream",
     "text": [
      "[[  0.  -2.   0.  -1.   0.   0.]\n",
      " [  0.   0.  -2.   0.   0.   0.]\n",
      " [  0.   0.   0.   0.  15.  10.]\n",
      " [ -3.   0.   0.  -1.   0.   0.]\n",
      " [-10.   0.   0.   0.   0.  10.]\n",
      " [  0.   0.   0.   0.   0.   0.]]\n"
     ]
    }
   ],
   "execution_count": 13
  },
  {
   "metadata": {
    "ExecuteTime": {
     "end_time": "2025-01-17T22:38:21.466991Z",
     "start_time": "2025-01-17T22:38:21.464386Z"
    }
   },
   "cell_type": "code",
   "source": "assert((np.sum(P_pi, axis=1) == 1).all())",
   "id": "b0b67d9391e7d298",
   "outputs": [],
   "execution_count": 14
  },
  {
   "metadata": {
    "ExecuteTime": {
     "end_time": "2025-01-17T22:38:42.492226Z",
     "start_time": "2025-01-17T22:38:42.488284Z"
    }
   },
   "cell_type": "code",
   "source": [
    "R_expected = np.sum(P_pi * R, axis=1, keepdims=True)\n",
    "R_expected"
   ],
   "id": "3dc768aedced55e",
   "outputs": [
    {
     "data": {
      "text/plain": [
       "array([[-1.5],\n",
       "       [-1. ],\n",
       "       [12.5],\n",
       "       [-2. ],\n",
       "       [ 0. ],\n",
       "       [ 0. ]], dtype=float32)"
      ]
     },
     "execution_count": 15,
     "metadata": {},
     "output_type": "execute_result"
    }
   ],
   "execution_count": 15
  },
  {
   "metadata": {
    "ExecuteTime": {
     "end_time": "2025-01-17T22:42:26.774623Z",
     "start_time": "2025-01-17T22:42:26.769466Z"
    }
   },
   "cell_type": "code",
   "source": [
    "# Now Bellman Equation\n",
    "gamma = 0.9\n",
    "A = np.eye(n_states, n_states) - gamma * P_pi\n",
    "B = R_expected\n",
    "V = linalg.solve(A, B)\n",
    "V"
   ],
   "id": "b623193d125307c4",
   "outputs": [
    {
     "data": {
      "text/plain": [
       "array([[-1.78587054],\n",
       "       [ 4.46226241],\n",
       "       [12.13836124],\n",
       "       [-5.09753029],\n",
       "       [-0.80364172],\n",
       "       [ 0.        ]])"
      ]
     },
     "execution_count": 16,
     "metadata": {},
     "output_type": "execute_result"
    }
   ],
   "execution_count": 16
  },
  {
   "metadata": {
    "ExecuteTime": {
     "end_time": "2025-01-17T22:43:34.717394Z",
     "start_time": "2025-01-17T22:43:34.713256Z"
    }
   },
   "cell_type": "code",
   "source": [
    "gamma = 0\n",
    "A = np.eye(n_states, n_states) - gamma * P_pi\n",
    "B = R_expected\n",
    "V = linalg.solve(A, B)\n",
    "V"
   ],
   "id": "711356fb5c24a68f",
   "outputs": [
    {
     "data": {
      "text/plain": [
       "array([[-1.5],\n",
       "       [-1. ],\n",
       "       [12.5],\n",
       "       [-2. ],\n",
       "       [ 0. ],\n",
       "       [ 0. ]])"
      ]
     },
     "execution_count": 17,
     "metadata": {},
     "output_type": "execute_result"
    }
   ],
   "execution_count": 17
  },
  {
   "metadata": {
    "ExecuteTime": {
     "end_time": "2025-01-17T22:47:48.914751Z",
     "start_time": "2025-01-17T22:47:48.911551Z"
    }
   },
   "cell_type": "code",
   "source": [
    "R_sa = np.zeros((n_states*2, 1))\n",
    "R_sa[0] = -2 # study in state 0\n",
    "R_sa[1] = -1 # social in state 0\n",
    "R_sa[2] = -2 # study in state 1\n",
    "R_sa[3] = 0 # sleep in state 1\n",
    "R_sa[4] = 10 # sleep in state 2\n",
    "R_sa[5] = +15 # beer in state 2\n",
    "R_sa[6] = -1 # social in state 3 (social)\n",
    "R_sa[7] = -3 # study in state 3 (social)\n",
    "R_sa[8] = 10 # sleep in state 4 (pub)\n",
    "R_sa[9] = -10 # study in state 4 (pub)\n",
    "R_sa.shape"
   ],
   "id": "5d3f394ef5e653c6",
   "outputs": [
    {
     "data": {
      "text/plain": [
       "(12, 1)"
      ]
     },
     "execution_count": 23,
     "metadata": {},
     "output_type": "execute_result"
    }
   ],
   "execution_count": 23
  },
  {
   "metadata": {
    "ExecuteTime": {
     "end_time": "2025-01-17T22:48:45.860973Z",
     "start_time": "2025-01-17T22:48:45.858521Z"
    }
   },
   "cell_type": "code",
   "source": "R",
   "id": "e92280a1f990b4b7",
   "outputs": [
    {
     "data": {
      "text/plain": [
       "array([[  0.,  -2.,   0.,  -1.,   0.,   0.],\n",
       "       [  0.,   0.,  -2.,   0.,   0.,   0.],\n",
       "       [  0.,   0.,   0.,   0.,  15.,  10.],\n",
       "       [ -3.,   0.,   0.,  -1.,   0.,   0.],\n",
       "       [-10.,   0.,   0.,   0.,   0.,  10.],\n",
       "       [  0.,   0.,   0.,   0.,   0.,   0.]], dtype=float32)"
      ]
     },
     "execution_count": 24,
     "metadata": {},
     "output_type": "execute_result"
    }
   ],
   "execution_count": 24
  },
  {
   "metadata": {
    "ExecuteTime": {
     "end_time": "2025-01-18T16:29:17.184654Z",
     "start_time": "2025-01-18T16:29:17.181251Z"
    }
   },
   "cell_type": "code",
   "source": [
    "\"\"\"\n",
    "States present Social, Class1, Class2, Class3, Pub and Bed\n",
    "\"\"\""
   ],
   "id": "a0241656e509e1a8",
   "outputs": [
    {
     "data": {
      "text/plain": [
       "'\\nStates present Social, Class1, Class2, Class3, Pub and Bed\\n'"
      ]
     },
     "execution_count": 25,
     "metadata": {},
     "output_type": "execute_result"
    }
   ],
   "execution_count": 25
  },
  {
   "metadata": {
    "ExecuteTime": {
     "end_time": "2025-01-18T16:31:00.079910Z",
     "start_time": "2025-01-18T16:31:00.077267Z"
    }
   },
   "cell_type": "code",
   "source": [
    "import numpy as np\n",
    "import scipy.optimize\n",
    "n_states = 3\n",
    "n_actions = 2\n",
    "mu = np.array([[1,0,0]]).T\n",
    "mu"
   ],
   "id": "b1cb52fb7a8a4e39",
   "outputs": [
    {
     "data": {
      "text/plain": [
       "array([[1],\n",
       "       [0],\n",
       "       [0]])"
      ]
     },
     "execution_count": 32,
     "metadata": {},
     "output_type": "execute_result"
    }
   ],
   "execution_count": 32
  },
  {
   "metadata": {
    "ExecuteTime": {
     "end_time": "2025-01-18T16:32:09.878288Z",
     "start_time": "2025-01-18T16:32:09.874622Z"
    }
   },
   "cell_type": "code",
   "source": [
    "R_A = np.zeros((n_states,1), np.float32)\n",
    "R_A[0,0] = 1\n",
    "R_A[1,0] = 0\n",
    "R_A[2,0] = 0\n",
    "R_A"
   ],
   "id": "bb2294986b745af2",
   "outputs": [
    {
     "data": {
      "text/plain": [
       "array([[1.],\n",
       "       [0.],\n",
       "       [0.]], dtype=float32)"
      ]
     },
     "execution_count": 33,
     "metadata": {},
     "output_type": "execute_result"
    }
   ],
   "execution_count": 33
  },
  {
   "metadata": {
    "ExecuteTime": {
     "end_time": "2025-01-18T16:33:04.142401Z",
     "start_time": "2025-01-18T16:33:04.139320Z"
    }
   },
   "cell_type": "code",
   "source": [
    "P_A = np.zeros((n_states, n_states), np.float32)\n",
    "P_A[0,1] = 1\n",
    "P_A[1,0] = 1\n",
    "P_A[2,1] = 1\n",
    "P_A"
   ],
   "id": "3b76409c9c310e8e",
   "outputs": [
    {
     "data": {
      "text/plain": [
       "array([[0., 1., 0.],\n",
       "       [1., 0., 0.],\n",
       "       [0., 1., 0.]], dtype=float32)"
      ]
     },
     "execution_count": 34,
     "metadata": {},
     "output_type": "execute_result"
    }
   ],
   "execution_count": 34
  },
  {
   "metadata": {
    "ExecuteTime": {
     "end_time": "2025-01-18T16:33:44.435796Z",
     "start_time": "2025-01-18T16:33:44.432091Z"
    }
   },
   "cell_type": "code",
   "source": [
    "gamma = 0.9\n",
    "A_up_A = gamma * P_A - np.eye(3,3)\n",
    "A_up_A"
   ],
   "id": "3780b595a27054ac",
   "outputs": [
    {
     "data": {
      "text/plain": [
       "array([[-1.        ,  0.89999998,  0.        ],\n",
       "       [ 0.89999998, -1.        ,  0.        ],\n",
       "       [ 0.        ,  0.89999998, -1.        ]])"
      ]
     },
     "execution_count": 35,
     "metadata": {},
     "output_type": "execute_result"
    }
   ],
   "execution_count": 35
  },
  {
   "metadata": {
    "ExecuteTime": {
     "end_time": "2025-01-18T16:35:56.152192Z",
     "start_time": "2025-01-18T16:35:56.147335Z"
    }
   },
   "cell_type": "code",
   "source": [
    "R_B = np.zeros((n_states,1), np.float32)\n",
    "R_B[0,0] = 10\n",
    "R_B[1,0] = 1\n",
    "R_B[2,0] = 10\n",
    "# Define transition matrix\n",
    "P_B = np.zeros((n_states, n_states), np.float32)\n",
    "P_B[0,2] = 1\n",
    "P_B[1,2] = 1\n",
    "P_B[2,2] = 1\n",
    "# Upper bound A matrix for action B\n",
    "A_up_B = gamma * P_B - np.eye(3,3)\n",
    "A_up_B"
   ],
   "id": "f995c83bb23c340b",
   "outputs": [
    {
     "data": {
      "text/plain": [
       "array([[-1.        ,  0.        ,  0.89999998],\n",
       "       [ 0.        , -1.        ,  0.89999998],\n",
       "       [ 0.        ,  0.        , -0.10000002]])"
      ]
     },
     "execution_count": 36,
     "metadata": {},
     "output_type": "execute_result"
    }
   ],
   "execution_count": 36
  },
  {
   "metadata": {
    "ExecuteTime": {
     "end_time": "2025-01-18T16:38:51.742109Z",
     "start_time": "2025-01-18T16:38:51.737433Z"
    }
   },
   "cell_type": "code",
   "source": [
    "# Upper Bound for all actions and all states\n",
    "A_up = np.vstack((A_up_A, A_up_B))\n",
    "\"\"\"\n",
    "Verify the shape: number of constraints are equal to |actions| * |states|\n",
    "\"\"\"\n",
    "assert(A_up.shape[0] == n_states * n_actions)\n",
    "# Reward vector is obtained by stacking the two vectors\n",
    "R = np.vstack((R_A, R_B))\n",
    "R"
   ],
   "id": "711c8742b3445e57",
   "outputs": [
    {
     "data": {
      "text/plain": [
       "array([[ 1.],\n",
       "       [ 0.],\n",
       "       [ 0.],\n",
       "       [10.],\n",
       "       [ 1.],\n",
       "       [10.]], dtype=float32)"
      ]
     },
     "execution_count": 38,
     "metadata": {},
     "output_type": "execute_result"
    }
   ],
   "execution_count": 38
  },
  {
   "metadata": {
    "ExecuteTime": {
     "end_time": "2025-01-18T16:39:48.747559Z",
     "start_time": "2025-01-18T16:39:48.740315Z"
    }
   },
   "cell_type": "code",
   "source": [
    "c = mu\n",
    "b_up = -R\n",
    "res = scipy.optimize.linprog(c, A_ub=A_up, b_ub=b_up)\n",
    "V_ = res.x\n",
    "V_"
   ],
   "id": "ac26037f52ee9bfa",
   "outputs": [
    {
     "data": {
      "text/plain": [
       "array([99.99997616, 90.99997616, 99.99997616])"
      ]
     },
     "execution_count": 39,
     "metadata": {},
     "output_type": "execute_result"
    }
   ],
   "execution_count": 39
  },
  {
   "metadata": {
    "ExecuteTime": {
     "end_time": "2025-01-18T16:40:07.082542Z",
     "start_time": "2025-01-18T16:40:07.078879Z"
    }
   },
   "cell_type": "code",
   "source": [
    "V = V_.reshape((-1,1))\n",
    "V"
   ],
   "id": "2886ea244e15322a",
   "outputs": [
    {
     "data": {
      "text/plain": [
       "array([[99.99997616],\n",
       "       [90.99997616],\n",
       "       [99.99997616]])"
      ]
     },
     "execution_count": 40,
     "metadata": {},
     "output_type": "execute_result"
    }
   ],
   "execution_count": 40
  },
  {
   "metadata": {},
   "cell_type": "code",
   "outputs": [],
   "execution_count": null,
   "source": "",
   "id": "974531d53119dc07"
  }
 ],
 "metadata": {
  "kernelspec": {
   "display_name": "Python 3",
   "language": "python",
   "name": "python3"
  },
  "language_info": {
   "codemirror_mode": {
    "name": "ipython",
    "version": 2
   },
   "file_extension": ".py",
   "mimetype": "text/x-python",
   "name": "python",
   "nbconvert_exporter": "python",
   "pygments_lexer": "ipython2",
   "version": "2.7.6"
  }
 },
 "nbformat": 4,
 "nbformat_minor": 5
}
