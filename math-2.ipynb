{
 "cells": [
  {
   "cell_type": "code",
   "id": "initial_id",
   "metadata": {
    "collapsed": true,
    "ExecuteTime": {
     "end_time": "2025-02-15T23:36:40.415217Z",
     "start_time": "2025-02-15T23:36:40.411604Z"
    }
   },
   "source": [
    "import gymnasium as gym\n",
    "from gymnasium.spaces import *\n",
    "import random\n",
    "import numpy as np"
   ],
   "outputs": [],
   "execution_count": 5
  },
  {
   "metadata": {
    "ExecuteTime": {
     "end_time": "2025-02-15T23:50:44.405834Z",
     "start_time": "2025-02-15T23:50:44.399495Z"
    }
   },
   "cell_type": "code",
   "source": [
    "class MathEnv(gym.Env):\n",
    "\n",
    "    metadata = {'render.modes': ['human'], 'render_fps':1}\n",
    "\n",
    "    def __init__(self):\n",
    "        self.action_space = gym.spaces.Discrete(20)\n",
    "        self.observation_space = Box(low=np.array([0]), high=np.array([20]), dtype=np.int32)\n",
    "        self.solve_time = 1\n",
    "        self.correct_answer = None\n",
    "        self.current_question = None\n",
    "\n",
    "    def step(self, action):\n",
    "        reward = 1 if action == self.correct_answer else - 1\n",
    "        done = True\n",
    "        return np.array(self.current_question), reward, done, {}\n",
    "\n",
    "\n",
    "    def render(self):\n",
    "        print(f'{self.current_question[0]} + {self.current_question[1]} = {self.correct_answer}')\n",
    "\n",
    "    def reset(self, seed=None, options=None):\n",
    "        num1 = np.random.randint(0, 10)\n",
    "        num2 = np.random.randint(0, 10)\n",
    "        self.current_question = (num1, num2)\n",
    "        self.correct_answer = num1 + num2\n",
    "        return np.array([num1, num2])\n"
   ],
   "id": "822ee29c57b7f1ef",
   "outputs": [],
   "execution_count": 42
  },
  {
   "metadata": {
    "ExecuteTime": {
     "end_time": "2025-02-15T23:51:00.440554Z",
     "start_time": "2025-02-15T23:51:00.437767Z"
    }
   },
   "cell_type": "code",
   "source": "env = MathEnv()\n",
   "id": "7f5b5a60b1f454e5",
   "outputs": [],
   "execution_count": 43
  },
  {
   "metadata": {},
   "cell_type": "code",
   "outputs": [],
   "execution_count": null,
   "source": [
    "class MathAgent:\n",
    "    def __init__(self, state_size, action_size, lr=0.1, gamma=0.9, epsilon=1.0, epsilon_decay=0.99):\n",
    "        self.q_table = np.zeros((state_size, action_size))\n",
    "        self.state_size = state_size\n",
    "        self.action_size = action_size\n",
    "        self.lr = lr\n",
    "        self.gamma = gamma\n",
    "        self.epsilon = epsilon\n",
    "        self.epsilon_decay = epsilon_decay\n",
    "\n",
    "    def choose_answer(self, state):\n",
    "        # Explore a random answer\n",
    "        if np.random.random() > 0.5:\n",
    "            return random.randint(0, self.action_size)\n",
    "        # Exploit an answer\n",
    "        return np.argmax(self.q_table[state[0], state[1]])\n",
    "\n",
    "    def update_qtable(self):\n",
    "        best_next_answer = np.argmax()"
   ],
   "id": "37f77cb4eaa45f8f"
  },
  {
   "metadata": {
    "ExecuteTime": {
     "end_time": "2025-02-16T22:41:10.666783Z",
     "start_time": "2025-02-16T22:41:10.660322Z"
    }
   },
   "cell_type": "code",
   "source": [
    "ans = [i for i in range(1000, 2001) if (i % 11 == 0) and (i % 3 != 0)]\n",
    "ans"
   ],
   "id": "50667f6a8c19c084",
   "outputs": [
    {
     "data": {
      "text/plain": [
       "[1001,\n",
       " 1012,\n",
       " 1034,\n",
       " 1045,\n",
       " 1067,\n",
       " 1078,\n",
       " 1100,\n",
       " 1111,\n",
       " 1133,\n",
       " 1144,\n",
       " 1166,\n",
       " 1177,\n",
       " 1199,\n",
       " 1210,\n",
       " 1232,\n",
       " 1243,\n",
       " 1265,\n",
       " 1276,\n",
       " 1298,\n",
       " 1309,\n",
       " 1331,\n",
       " 1342,\n",
       " 1364,\n",
       " 1375,\n",
       " 1397,\n",
       " 1408,\n",
       " 1430,\n",
       " 1441,\n",
       " 1463,\n",
       " 1474,\n",
       " 1496,\n",
       " 1507,\n",
       " 1529,\n",
       " 1540,\n",
       " 1562,\n",
       " 1573,\n",
       " 1595,\n",
       " 1606,\n",
       " 1628,\n",
       " 1639,\n",
       " 1661,\n",
       " 1672,\n",
       " 1694,\n",
       " 1705,\n",
       " 1727,\n",
       " 1738,\n",
       " 1760,\n",
       " 1771,\n",
       " 1793,\n",
       " 1804,\n",
       " 1826,\n",
       " 1837,\n",
       " 1859,\n",
       " 1870,\n",
       " 1892,\n",
       " 1903,\n",
       " 1925,\n",
       " 1936,\n",
       " 1958,\n",
       " 1969,\n",
       " 1991]"
      ]
     },
     "execution_count": 60,
     "metadata": {},
     "output_type": "execute_result"
    }
   ],
   "execution_count": 60
  },
  {
   "metadata": {
    "ExecuteTime": {
     "end_time": "2025-02-16T19:54:21.242835Z",
     "start_time": "2025-02-16T19:54:21.238037Z"
    }
   },
   "cell_type": "code",
   "source": [
    "word = 'Hello World'\n",
    "upper_case_letters = sum([1 for c in word if c.isupper()])\n",
    "lower_case_letters = sum([1 for c in word if c.islower()])\n",
    "upper_case_letters, lower_case_letters"
   ],
   "id": "9e0f00764201ff70",
   "outputs": [
    {
     "data": {
      "text/plain": [
       "(2, 8)"
      ]
     },
     "execution_count": 57,
     "metadata": {},
     "output_type": "execute_result"
    }
   ],
   "execution_count": 57
  },
  {
   "metadata": {
    "ExecuteTime": {
     "end_time": "2025-02-16T22:54:04.471010Z",
     "start_time": "2025-02-16T22:54:04.467980Z"
    }
   },
   "cell_type": "code",
   "source": [
    "my_func = lambda x: str(x)\n",
    "my_func('pew')"
   ],
   "id": "f2e653f2333c1c30",
   "outputs": [
    {
     "data": {
      "text/plain": [
       "'pew'"
      ]
     },
     "execution_count": 81,
     "metadata": {},
     "output_type": "execute_result"
    }
   ],
   "execution_count": 81
  },
  {
   "metadata": {
    "ExecuteTime": {
     "end_time": "2025-02-16T22:52:57.465472Z",
     "start_time": "2025-02-16T22:52:57.462781Z"
    }
   },
   "cell_type": "code",
   "source": [
    "my_func_2 = lambda x: str.upper(x) + \" Hello World\"\n",
    "my_func_2(my_func('pew'))"
   ],
   "id": "888cbe00f1595700",
   "outputs": [
    {
     "data": {
      "text/plain": [
       "'PEW Hello World'"
      ]
     },
     "execution_count": 79,
     "metadata": {},
     "output_type": "execute_result"
    }
   ],
   "execution_count": 79
  },
  {
   "metadata": {},
   "cell_type": "code",
   "outputs": [],
   "execution_count": null,
   "source": "",
   "id": "bdc9f99f0e3e91a3"
  }
 ],
 "metadata": {
  "kernelspec": {
   "display_name": "Python 3",
   "language": "python",
   "name": "python3"
  },
  "language_info": {
   "codemirror_mode": {
    "name": "ipython",
    "version": 2
   },
   "file_extension": ".py",
   "mimetype": "text/x-python",
   "name": "python",
   "nbconvert_exporter": "python",
   "pygments_lexer": "ipython2",
   "version": "2.7.6"
  }
 },
 "nbformat": 4,
 "nbformat_minor": 5
}
