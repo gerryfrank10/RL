{
 "cells": [
  {
   "metadata": {
    "ExecuteTime": {
     "end_time": "2025-01-25T01:23:21.501810Z",
     "start_time": "2025-01-25T01:23:21.498183Z"
    }
   },
   "cell_type": "code",
   "source": "PRICES = [\"NA\", 9, 40, 50, 70, 80]",
   "id": "a134430d65d5d4af",
   "outputs": [],
   "execution_count": 3
  },
  {
   "metadata": {
    "collapsed": true,
    "ExecuteTime": {
     "end_time": "2025-01-25T01:28:07.026211Z",
     "start_time": "2025-01-25T01:28:07.021363Z"
    }
   },
   "cell_type": "code",
   "source": [
    "def partition(cake_size):\n",
    "    \"\"\"\n",
    "    partitions of the cake\n",
    "    :param cake_size: size of the cake\n",
    "    :return: the best profit possible\n",
    "    \"\"\"\n",
    "    if cake_size <= 0:\n",
    "        return 0\n",
    "    best_profit = -1\n",
    "    for i in range(1, cake_size + 1):\n",
    "        best_profit = max(best_profit, PRICES[i] + partition(cake_size - i))\n",
    "    print(f'The best profit for {cake_size} is {best_profit}')\n",
    "    return best_profit"
   ],
   "id": "initial_id",
   "outputs": [],
   "execution_count": 6
  },
  {
   "metadata": {
    "ExecuteTime": {
     "end_time": "2025-01-25T01:28:07.872749Z",
     "start_time": "2025-01-25T01:28:07.868877Z"
    }
   },
   "cell_type": "code",
   "source": [
    "size = 5\n",
    "best_profit = partition(size)\n",
    "print(best_profit)"
   ],
   "id": "ea353b277da6fe75",
   "outputs": [
    {
     "name": "stdout",
     "output_type": "stream",
     "text": [
      "The best profit for 1 is 9\n",
      "The best profit for 2 is 40\n",
      "The best profit for 1 is 9\n",
      "The best profit for 3 is 50\n",
      "The best profit for 1 is 9\n",
      "The best profit for 2 is 40\n",
      "The best profit for 1 is 9\n",
      "The best profit for 4 is 80\n",
      "The best profit for 1 is 9\n",
      "The best profit for 2 is 40\n",
      "The best profit for 1 is 9\n",
      "The best profit for 3 is 50\n",
      "The best profit for 1 is 9\n",
      "The best profit for 2 is 40\n",
      "The best profit for 1 is 9\n",
      "The best profit for 5 is 90\n",
      "90\n"
     ]
    }
   ],
   "execution_count": 7
  },
  {
   "metadata": {
    "ExecuteTime": {
     "end_time": "2025-01-25T01:38:55.814897Z",
     "start_time": "2025-01-25T01:38:55.811650Z"
    }
   },
   "cell_type": "code",
   "source": [
    "def memoized_partition(cake_size, memo=None):\n",
    "    if cake_size <= 0:\n",
    "        return 0\n",
    "    if cake_size in memo:\n",
    "        return memo[cake_size]\n",
    "    else:\n",
    "        best_profit = -1\n",
    "        for i in range(1, cake_size + 1):\n",
    "            best_profit = max(best_profit, PRICES[i] + memoized_partition(cake_size - i, memo))\n",
    "        print(f'The best profit for {cake_size} is {best_profit}')\n",
    "        memo[cake_size] = best_profit\n",
    "        return best_profit"
   ],
   "id": "98d766d30e6eecf9",
   "outputs": [],
   "execution_count": 18
  },
  {
   "metadata": {
    "ExecuteTime": {
     "end_time": "2025-01-25T01:43:24.146686Z",
     "start_time": "2025-01-25T01:41:34.289648Z"
    }
   },
   "cell_type": "code",
   "source": [
    "size = 5\n",
    "best_profit = memoized_partition(size, {})\n",
    "print(best_profit)"
   ],
   "id": "341dbf21ef1445c6",
   "outputs": [
    {
     "name": "stdout",
     "output_type": "stream",
     "text": [
      "The best profit for 1 is 9\n",
      "The best profit for 2 is 40\n",
      "The best profit for 3 is 50\n",
      "The best profit for 4 is 80\n",
      "The best profit for 5 is 90\n",
      "90\n"
     ]
    }
   ],
   "execution_count": 20
  },
  {
   "metadata": {
    "ExecuteTime": {
     "end_time": "2025-01-25T13:05:35.524594Z",
     "start_time": "2025-01-25T13:05:35.520862Z"
    }
   },
   "cell_type": "code",
   "source": [
    "def (n):\n",
    "    if n <= 1:\n",
    "        return 0\n",
    "    elif n == 2:\n",
    "        return 1\n",
    "    else:\n",
    "        return (n-1) + (n-2) + (n-3)\n"
   ],
   "id": "dba8ebd0096dfcd2",
   "outputs": [],
   "execution_count": 26
  },
  {
   "metadata": {
    "ExecuteTime": {
     "end_time": "2025-01-25T13:06:53.451557Z",
     "start_time": "2025-01-25T13:06:53.447998Z"
    }
   },
   "cell_type": "code",
   "source": "tribonacci_recussive(6)",
   "id": "6eac5875a04ab119",
   "outputs": [
    {
     "data": {
      "text/plain": [
       "7"
      ]
     },
     "execution_count": 29,
     "metadata": {},
     "output_type": "execute_result"
    }
   ],
   "execution_count": 29
  },
  {
   "metadata": {
    "ExecuteTime": {
     "end_time": "2025-01-25T13:05:38.231492Z",
     "start_time": "2025-01-25T13:05:38.227305Z"
    }
   },
   "cell_type": "code",
   "source": [
    "def fibonacci_recursive(n):\n",
    "    if n <= 1:\n",
    "        return 0\n",
    "    elif n == 2:\n",
    "        return 1\n",
    "    else:\n",
    "        return fibonacci_recursive(n - 1) + fibonacci_recursive(n - 2)"
   ],
   "id": "55a64dbef2dbe55d",
   "outputs": [],
   "execution_count": 28
  },
  {
   "metadata": {
    "ExecuteTime": {
     "end_time": "2025-01-25T13:04:54.229841Z",
     "start_time": "2025-01-25T13:04:54.226085Z"
    }
   },
   "cell_type": "code",
   "source": "fibonacci_recursive(10)",
   "id": "7255df9126139e35",
   "outputs": [
    {
     "data": {
      "text/plain": [
       "34"
      ]
     },
     "execution_count": 25,
     "metadata": {},
     "output_type": "execute_result"
    }
   ],
   "execution_count": 25
  },
  {
   "metadata": {
    "ExecuteTime": {
     "end_time": "2025-01-25T13:31:28.249692Z",
     "start_time": "2025-01-25T13:31:28.246067Z"
    }
   },
   "cell_type": "code",
   "source": [
    "def tribonacci_memo(n, memo=None):\n",
    "    if n in memo:\n",
    "        return memo[n]\n",
    "    else:\n",
    "        ans1 = tribonacci_memo(n - 1, memo)\n",
    "        ans2 = tribonacci_memo(n - 2, memo)\n",
    "        ans3 = tribonacci_memo(n - 3, memo)\n",
    "        res = ans1 + ans2 + ans3\n",
    "        memo[n] = res\n",
    "        return res\n"
   ],
   "id": "11e0b4bdf55b8542",
   "outputs": [],
   "execution_count": 39
  },
  {
   "metadata": {
    "ExecuteTime": {
     "end_time": "2025-01-25T13:31:28.413152Z",
     "start_time": "2025-01-25T13:31:28.410747Z"
    }
   },
   "cell_type": "code",
   "source": [
    "memo = {0: 0, 1:0 , 2:1}\n",
    "tribonacci_memo(7, memo)"
   ],
   "id": "83df44ca22d7d9af",
   "outputs": [
    {
     "data": {
      "text/plain": [
       "13"
      ]
     },
     "execution_count": 40,
     "metadata": {},
     "output_type": "execute_result"
    }
   ],
   "execution_count": 40
  },
  {
   "metadata": {
    "ExecuteTime": {
     "end_time": "2025-01-25T13:38:35.762189Z",
     "start_time": "2025-01-25T13:38:35.757680Z"
    }
   },
   "cell_type": "code",
   "source": [
    "\"\"\"\n",
    "Longest common sequence in two strings\n",
    "example BBBABDABAA and AAAABDABBAABB the longest common is ABDAB\n",
    "1. We use brute force approach\n",
    "\"\"\"\n",
    "def lcs_brute_force(first, second):\n",
    "    len_first = len(first)\n",
    "    len_second = len(second)\n",
    "    lcs_start, lcs_end = -1, -1\n",
    "    max_lcs = -1\n",
    "    for i1 in range(len_first):\n",
    "        for j1 in range(i1, len_first):\n",
    "            for i2 in range(len_second):\n",
    "                for j2 in range(i2, len_second):\n",
    "                    slice_first = slice(i1, j1)\n",
    "                    slice_second = slice(i2, j2)\n",
    "                    if first[slice_first] == second[slice_second] and j1 -i1 > max_lcs:\n",
    "                        max_lcs = j1 - i1\n",
    "                        lcs_start = i1\n",
    "                        lcs_end = j1\n",
    "    print(\"LCS: \", first[lcs_start: lcs_end])\n",
    "    return max_lcs"
   ],
   "id": "1ea0eefb094f1ed6",
   "outputs": [],
   "execution_count": 43
  },
  {
   "metadata": {
    "ExecuteTime": {
     "end_time": "2025-01-25T13:38:36.178079Z",
     "start_time": "2025-01-25T13:38:36.173068Z"
    }
   },
   "cell_type": "code",
   "source": [
    "a = \"BBBABDABAA\"\n",
    "b = \"AAAABDABBAABB\"\n",
    "lcs_brute_force(a, b)"
   ],
   "id": "653fb10f0c8efa25",
   "outputs": [
    {
     "name": "stdout",
     "output_type": "stream",
     "text": [
      "LCS:  ABDAB\n"
     ]
    },
    {
     "data": {
      "text/plain": [
       "5"
      ]
     },
     "execution_count": 44,
     "metadata": {},
     "output_type": "execute_result"
    }
   ],
   "execution_count": 44
  },
  {
   "metadata": {
    "ExecuteTime": {
     "end_time": "2025-01-25T13:43:45.282162Z",
     "start_time": "2025-01-25T13:43:45.197819Z"
    }
   },
   "cell_type": "code",
   "source": [
    "\"\"\"\n",
    "2. Using tabular method\n",
    "\"\"\"\n",
    "import numpy as np\n",
    "def lcs_tabular(first, second):\n",
    "    table = np.zeros((len(first), len(second)), dtype=int)\n",
    "    for i in range(len(first)):\n",
    "        for j in range(len(second)):\n",
    "            if first[i] == second[j]:\n",
    "                table[i, j] += 1 + table[i - 1][j - 1]\n",
    "    print(table)\n",
    "    return np.max(table)"
   ],
   "id": "6d5eb74ea844789d",
   "outputs": [],
   "execution_count": 45
  },
  {
   "metadata": {
    "ExecuteTime": {
     "end_time": "2025-01-25T13:43:50.108683Z",
     "start_time": "2025-01-25T13:43:50.104090Z"
    }
   },
   "cell_type": "code",
   "source": [
    "a = \"BBBABDABAA\"\n",
    "b = \"AAAABDABBAABB\"\n",
    "lcs_tabular(a, b)"
   ],
   "id": "d2a71283c2c34c3c",
   "outputs": [
    {
     "name": "stdout",
     "output_type": "stream",
     "text": [
      "[[0 0 0 0 1 0 0 1 1 0 0 1 1]\n",
      " [0 0 0 0 1 0 0 1 2 0 0 1 2]\n",
      " [0 0 0 0 1 0 0 1 2 0 0 1 2]\n",
      " [3 1 1 1 0 0 1 0 0 3 1 0 0]\n",
      " [0 0 0 0 2 0 0 2 1 0 0 2 1]\n",
      " [0 0 0 0 0 3 0 0 0 0 0 0 0]\n",
      " [1 1 1 1 0 0 4 0 0 1 1 0 0]\n",
      " [0 0 0 0 2 0 0 5 1 0 0 2 1]\n",
      " [2 1 1 1 0 0 1 0 0 2 1 0 0]\n",
      " [1 3 2 2 0 0 1 0 0 1 3 0 0]]\n"
     ]
    },
    {
     "data": {
      "text/plain": [
       "np.int64(5)"
      ]
     },
     "execution_count": 46,
     "metadata": {},
     "output_type": "execute_result"
    }
   ],
   "execution_count": 46
  },
  {
   "metadata": {},
   "cell_type": "code",
   "outputs": [],
   "execution_count": null,
   "source": "",
   "id": "178033445b2ca814"
  }
 ],
 "metadata": {
  "kernelspec": {
   "display_name": "Python 3",
   "language": "python",
   "name": "python3"
  },
  "language_info": {
   "codemirror_mode": {
    "name": "ipython",
    "version": 2
   },
   "file_extension": ".py",
   "mimetype": "text/x-python",
   "name": "python",
   "nbconvert_exporter": "python",
   "pygments_lexer": "ipython2",
   "version": "2.7.6"
  }
 },
 "nbformat": 4,
 "nbformat_minor": 5
}
