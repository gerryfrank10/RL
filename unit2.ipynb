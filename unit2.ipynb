{
 "cells": [
  {
   "metadata": {},
   "cell_type": "markdown",
   "source": "# Reinforcement Learning For FROZEN LAKE and Taxi",
   "id": "bd0fc9a69be8300b"
  },
  {
   "metadata": {},
   "cell_type": "markdown",
   "source": "<img src=\"https://huggingface.co/datasets/huggingface-deep-rl-course/course-images/resolve/main/en/unit3/envs.gif\" alt=\"Environments\"/>",
   "id": "1ce9aaf233a62f79"
  },
  {
   "metadata": {
    "ExecuteTime": {
     "end_time": "2025-02-20T14:13:09.936338Z",
     "start_time": "2025-02-20T14:13:09.933710Z"
    }
   },
   "cell_type": "code",
   "source": [
    "import gymnasium as gym\n",
    "import numpy as np\n",
    "import tqdm\n",
    "import os\n",
    "import random\n",
    "import pickle\n"
   ],
   "id": "daf13fddb7477dae",
   "outputs": [],
   "execution_count": 3
  },
  {
   "metadata": {
    "ExecuteTime": {
     "end_time": "2025-02-20T14:14:16.150409Z",
     "start_time": "2025-02-20T14:14:16.148271Z"
    }
   },
   "cell_type": "code",
   "source": [
    "# Environment\n",
    "env = gym.make('FrozenLake-v1', render_mode='rgb_array', map_name='4x4', is_slippery=False)"
   ],
   "id": "e082a221fcfa03ab",
   "outputs": [],
   "execution_count": 6
  },
  {
   "metadata": {
    "ExecuteTime": {
     "end_time": "2025-02-20T14:15:36.888206Z",
     "start_time": "2025-02-20T14:15:36.885267Z"
    }
   },
   "cell_type": "code",
   "source": [
    "print(f'Observation space: {env.observation_space.n}')\n",
    "print(f'Sample Observation : {env.observation_space.sample()}')"
   ],
   "id": "555680314460a492",
   "outputs": [
    {
     "name": "stdout",
     "output_type": "stream",
     "text": [
      "Observation space: 16\n",
      "Sample Observation : 0\n"
     ]
    }
   ],
   "execution_count": 9
  },
  {
   "metadata": {
    "ExecuteTime": {
     "end_time": "2025-02-20T14:15:17.932547Z",
     "start_time": "2025-02-20T14:15:17.929898Z"
    }
   },
   "cell_type": "code",
   "source": [
    "print(f'Action Space: {env.action_space.n}')\n",
    "print(f'Action Sample : {env.action_space.sample()}')"
   ],
   "id": "f2c1c142764c024a",
   "outputs": [
    {
     "name": "stdout",
     "output_type": "stream",
     "text": [
      "Action Space: 4\n",
      "Action Sample : 0\n"
     ]
    }
   ],
   "execution_count": 8
  },
  {
   "metadata": {
    "ExecuteTime": {
     "end_time": "2025-02-20T14:16:26.180791Z",
     "start_time": "2025-02-20T14:16:26.177990Z"
    }
   },
   "cell_type": "code",
   "source": [
    "# Define the variables\n",
    "state_space = env.observation_space.n\n",
    "action_space = env.action_space.n\n",
    "Qtable = np.zeros((state_space, action_space))"
   ],
   "id": "1167a05181865967",
   "outputs": [],
   "execution_count": 10
  },
  {
   "metadata": {
    "ExecuteTime": {
     "end_time": "2025-02-20T14:26:53.762474Z",
     "start_time": "2025-02-20T14:26:53.758935Z"
    }
   },
   "cell_type": "code",
   "source": [
    "# Action using Epsilon greedy\n",
    "epsilon_greedy = lambda state, epsilon: np.argmax(Qtable[state][:]) if np.random.uniform(0,1) > epsilon else env.action_space.sample()"
   ],
   "id": "24c5e3317ed82abb",
   "outputs": [],
   "execution_count": 12
  },
  {
   "metadata": {
    "ExecuteTime": {
     "end_time": "2025-02-20T14:28:22.938943Z",
     "start_time": "2025-02-20T14:28:22.935904Z"
    }
   },
   "cell_type": "code",
   "source": [
    "n_episodes = 10000\n",
    "learning_rate = 0.7\n",
    "n_eval_episodes = 100\n",
    "max_steps = 99\n",
    "gamma = 0.95\n",
    "eval_seed = []\n",
    "max_epsilon = 1.0\n",
    "min_epsilon = 0.05\n",
    "decay_rate = 0.0005"
   ],
   "id": "df83a5e4790ffafe",
   "outputs": [],
   "execution_count": 13
  },
  {
   "metadata": {
    "ExecuteTime": {
     "end_time": "2025-02-20T14:35:55.041178Z",
     "start_time": "2025-02-20T14:35:55.036984Z"
    }
   },
   "cell_type": "code",
   "source": [
    "def train(n_episodes, learning_rate, max_steps, gamma, epsilon_greedy, Qtable):\n",
    "    for episode in tqdm.tqdm(range(n_episodes)):\n",
    "        epsilon = min_epsilon + (max_epsilon - min_epsilon) * np.exp(-decay_rate * episode)\n",
    "        state, info = env.reset()\n",
    "        step = 0\n",
    "        terminated = False\n",
    "        truncated = False\n",
    "        for step in range(max_steps):\n",
    "            action = epsilon_greedy(state, epsilon)\n",
    "            new_state, reward, terminated, truncated, info = env.step(action)\n",
    "            Qtable[state][action]  = Qtable[state][action] + learning_rate * reward + gamma * np.max(Qtable[new_state]) - Qtable[state][action]\n",
    "            if terminated or truncated: break\n",
    "            state = new_state\n",
    "    return Qtable"
   ],
   "id": "6e66cbdf8cae4ca7",
   "outputs": [],
   "execution_count": 14
  },
  {
   "metadata": {
    "ExecuteTime": {
     "end_time": "2025-02-20T14:36:14.520500Z",
     "start_time": "2025-02-20T14:36:14.027320Z"
    }
   },
   "cell_type": "code",
   "source": "Qtable_frozenlake = train(n_episodes, learning_rate, max_steps, gamma, epsilon_greedy, Qtable)",
   "id": "47e1239eb38500db",
   "outputs": [
    {
     "name": "stderr",
     "output_type": "stream",
     "text": [
      "100%|██████████| 10000/10000 [00:00<00:00, 21339.65it/s]\n"
     ]
    }
   ],
   "execution_count": 15
  },
  {
   "metadata": {
    "ExecuteTime": {
     "end_time": "2025-02-20T14:36:18.664642Z",
     "start_time": "2025-02-20T14:36:18.657534Z"
    }
   },
   "cell_type": "code",
   "source": "Qtable_frozenlake",
   "id": "de890d2da70edb88",
   "outputs": [
    {
     "data": {
      "text/plain": [
       "array([[0.51456432, 0.54164666, 0.54164666, 0.51456432],\n",
       "       [0.51456432, 0.        , 0.57015437, 0.54164666],\n",
       "       [0.54164666, 0.6001625 , 0.54164666, 0.57015437],\n",
       "       [0.57015437, 0.        , 0.54164666, 0.54164666],\n",
       "       [0.54164666, 0.57015437, 0.        , 0.51456432],\n",
       "       [0.        , 0.        , 0.        , 0.        ],\n",
       "       [0.        , 0.63175   , 0.        , 0.57015437],\n",
       "       [0.        , 0.        , 0.        , 0.        ],\n",
       "       [0.57015437, 0.        , 0.6001625 , 0.54164666],\n",
       "       [0.57015437, 0.63175   , 0.63175   , 0.        ],\n",
       "       [0.6001625 , 0.665     , 0.        , 0.6001625 ],\n",
       "       [0.        , 0.        , 0.        , 0.        ],\n",
       "       [0.        , 0.        , 0.        , 0.        ],\n",
       "       [0.        , 0.63175   , 0.665     , 0.6001625 ],\n",
       "       [0.63175   , 0.665     , 0.7       , 0.63175   ],\n",
       "       [0.        , 0.        , 0.        , 0.        ]])"
      ]
     },
     "execution_count": 16,
     "metadata": {},
     "output_type": "execute_result"
    }
   ],
   "execution_count": 16
  },
  {
   "metadata": {
    "ExecuteTime": {
     "end_time": "2025-02-20T19:15:23.569035Z",
     "start_time": "2025-02-20T19:15:23.564105Z"
    }
   },
   "cell_type": "code",
   "source": [
    "import imageio\n",
    "def record_video(env, Qtable, out_directory, fps=1):\n",
    "    images = []\n",
    "    terminated = False\n",
    "    truncated = False\n",
    "    state, info = env.reset(seed=random.randint(0,500))\n",
    "    img = env.render()\n",
    "    images.append(img)\n",
    "    while not terminated or truncated:\n",
    "        action = np.argmax(Qtable[state][:])\n",
    "        state, reward, terminated, trunctated, info = env.step(action)\n",
    "        img = env.render()\n",
    "        images.append(img)\n",
    "    imageio.mimsave(out_directory, [np.array(img) for i, img in enumerate(images)], fps=fps)"
   ],
   "id": "b3fb91bc005a0643",
   "outputs": [],
   "execution_count": 24
  },
  {
   "metadata": {
    "ExecuteTime": {
     "end_time": "2025-02-20T19:16:48.905616Z",
     "start_time": "2025-02-20T19:16:46.638391Z"
    }
   },
   "cell_type": "code",
   "source": [
    "video_path = 'replay.mp4'\n",
    "record_video(env, Qtable_frozenlake, video_path,fps=1)"
   ],
   "id": "712739cc3e00eba6",
   "outputs": [],
   "execution_count": 25
  },
  {
   "metadata": {},
   "cell_type": "code",
   "outputs": [],
   "execution_count": null,
   "source": "",
   "id": "3891c32d96bc286b"
  }
 ],
 "metadata": {
  "kernelspec": {
   "display_name": "Python 3",
   "language": "python",
   "name": "python3"
  },
  "language_info": {
   "codemirror_mode": {
    "name": "ipython",
    "version": 2
   },
   "file_extension": ".py",
   "mimetype": "text/x-python",
   "name": "python",
   "nbconvert_exporter": "python",
   "pygments_lexer": "ipython2",
   "version": "2.7.6"
  }
 },
 "nbformat": 4,
 "nbformat_minor": 5
}
