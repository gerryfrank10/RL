{
 "cells": [
  {
   "cell_type": "code",
   "id": "initial_id",
   "metadata": {
    "collapsed": true,
    "ExecuteTime": {
     "end_time": "2025-02-18T23:09:23.464728Z",
     "start_time": "2025-02-18T23:09:23.392304Z"
    }
   },
   "source": "import gymnasium as gym",
   "outputs": [],
   "execution_count": 1
  },
  {
   "metadata": {
    "ExecuteTime": {
     "end_time": "2025-02-18T23:12:09.789068Z",
     "start_time": "2025-02-18T23:12:09.675646Z"
    }
   },
   "cell_type": "code",
   "source": [
    "env = gym.make('LunarLander-v3')\n",
    "observation, info = env.reset()\n",
    "\n",
    "for _ in range(100):\n",
    "    action = env.action_space.sample()\n",
    "    print(f'Action taken: {action}')\n",
    "\n",
    "    observation, reward, terminated, truncated, info = env.step(action)\n",
    "    if terminated or truncated:\n",
    "        print(f'Environment is reset')\n",
    "        observation, info = env.reset()\n",
    "    env.close()"
   ],
   "id": "ed65249eeea81057",
   "outputs": [
    {
     "ename": "DependencyNotInstalled",
     "evalue": "Box2D is not installed, you can install it by run `pip install swig` followed by `pip install \"gymnasium[box2d]\"`",
     "output_type": "error",
     "traceback": [
      "\u001B[0;31m---------------------------------------------------------------------------\u001B[0m",
      "\u001B[0;31mModuleNotFoundError\u001B[0m                       Traceback (most recent call last)",
      "File \u001B[0;32m/opt/anaconda3/envs/reinforcement-learning/lib/python3.13/site-packages/gymnasium/envs/box2d/bipedal_walker.py:15\u001B[0m\n\u001B[1;32m     14\u001B[0m \u001B[38;5;28;01mtry\u001B[39;00m:\n\u001B[0;32m---> 15\u001B[0m     \u001B[38;5;28;01mimport\u001B[39;00m\u001B[38;5;250m \u001B[39m\u001B[38;5;21;01mBox2D\u001B[39;00m\n\u001B[1;32m     16\u001B[0m     \u001B[38;5;28;01mfrom\u001B[39;00m\u001B[38;5;250m \u001B[39m\u001B[38;5;21;01mBox2D\u001B[39;00m\u001B[38;5;21;01m.\u001B[39;00m\u001B[38;5;21;01mb2\u001B[39;00m\u001B[38;5;250m \u001B[39m\u001B[38;5;28;01mimport\u001B[39;00m (\n\u001B[1;32m     17\u001B[0m         circleShape,\n\u001B[1;32m     18\u001B[0m         contactListener,\n\u001B[0;32m   (...)\u001B[0m\n\u001B[1;32m     22\u001B[0m         revoluteJointDef,\n\u001B[1;32m     23\u001B[0m     )\n",
      "\u001B[0;31mModuleNotFoundError\u001B[0m: No module named 'Box2D'",
      "\nThe above exception was the direct cause of the following exception:\n",
      "\u001B[0;31mDependencyNotInstalled\u001B[0m                    Traceback (most recent call last)",
      "Cell \u001B[0;32mIn[3], line 1\u001B[0m\n\u001B[0;32m----> 1\u001B[0m env \u001B[38;5;241m=\u001B[39m \u001B[43mgym\u001B[49m\u001B[38;5;241;43m.\u001B[39;49m\u001B[43mmake\u001B[49m\u001B[43m(\u001B[49m\u001B[38;5;124;43m'\u001B[39;49m\u001B[38;5;124;43mLunarLander-v3\u001B[39;49m\u001B[38;5;124;43m'\u001B[39;49m\u001B[43m)\u001B[49m\n\u001B[1;32m      2\u001B[0m observation, info \u001B[38;5;241m=\u001B[39m env\u001B[38;5;241m.\u001B[39mreset()\n\u001B[1;32m      4\u001B[0m \u001B[38;5;28;01mfor\u001B[39;00m _ \u001B[38;5;129;01min\u001B[39;00m \u001B[38;5;28mrange\u001B[39m(\u001B[38;5;241m100\u001B[39m):\n",
      "File \u001B[0;32m/opt/anaconda3/envs/reinforcement-learning/lib/python3.13/site-packages/gymnasium/envs/registration.py:702\u001B[0m, in \u001B[0;36mmake\u001B[0;34m(id, max_episode_steps, disable_env_checker, **kwargs)\u001B[0m\n\u001B[1;32m    699\u001B[0m     env_creator \u001B[38;5;241m=\u001B[39m env_spec\u001B[38;5;241m.\u001B[39mentry_point\n\u001B[1;32m    700\u001B[0m \u001B[38;5;28;01melse\u001B[39;00m:\n\u001B[1;32m    701\u001B[0m     \u001B[38;5;66;03m# Assume it's a string\u001B[39;00m\n\u001B[0;32m--> 702\u001B[0m     env_creator \u001B[38;5;241m=\u001B[39m \u001B[43mload_env_creator\u001B[49m\u001B[43m(\u001B[49m\u001B[43menv_spec\u001B[49m\u001B[38;5;241;43m.\u001B[39;49m\u001B[43mentry_point\u001B[49m\u001B[43m)\u001B[49m\n\u001B[1;32m    704\u001B[0m \u001B[38;5;66;03m# Determine if to use the rendering\u001B[39;00m\n\u001B[1;32m    705\u001B[0m render_modes: \u001B[38;5;28mlist\u001B[39m[\u001B[38;5;28mstr\u001B[39m] \u001B[38;5;241m|\u001B[39m \u001B[38;5;28;01mNone\u001B[39;00m \u001B[38;5;241m=\u001B[39m \u001B[38;5;28;01mNone\u001B[39;00m\n",
      "File \u001B[0;32m/opt/anaconda3/envs/reinforcement-learning/lib/python3.13/site-packages/gymnasium/envs/registration.py:549\u001B[0m, in \u001B[0;36mload_env_creator\u001B[0;34m(name)\u001B[0m\n\u001B[1;32m    540\u001B[0m \u001B[38;5;250m\u001B[39m\u001B[38;5;124;03m\"\"\"Loads an environment with name of style ``\"(import path):(environment name)\"`` and returns the environment creation function, normally the environment class type.\u001B[39;00m\n\u001B[1;32m    541\u001B[0m \n\u001B[1;32m    542\u001B[0m \u001B[38;5;124;03mArgs:\u001B[39;00m\n\u001B[0;32m   (...)\u001B[0m\n\u001B[1;32m    546\u001B[0m \u001B[38;5;124;03m    The environment constructor for the given environment name.\u001B[39;00m\n\u001B[1;32m    547\u001B[0m \u001B[38;5;124;03m\"\"\"\u001B[39;00m\n\u001B[1;32m    548\u001B[0m mod_name, attr_name \u001B[38;5;241m=\u001B[39m name\u001B[38;5;241m.\u001B[39msplit(\u001B[38;5;124m\"\u001B[39m\u001B[38;5;124m:\u001B[39m\u001B[38;5;124m\"\u001B[39m)\n\u001B[0;32m--> 549\u001B[0m mod \u001B[38;5;241m=\u001B[39m \u001B[43mimportlib\u001B[49m\u001B[38;5;241;43m.\u001B[39;49m\u001B[43mimport_module\u001B[49m\u001B[43m(\u001B[49m\u001B[43mmod_name\u001B[49m\u001B[43m)\u001B[49m\n\u001B[1;32m    550\u001B[0m fn \u001B[38;5;241m=\u001B[39m \u001B[38;5;28mgetattr\u001B[39m(mod, attr_name)\n\u001B[1;32m    551\u001B[0m \u001B[38;5;28;01mreturn\u001B[39;00m fn\n",
      "File \u001B[0;32m/opt/anaconda3/envs/reinforcement-learning/lib/python3.13/importlib/__init__.py:88\u001B[0m, in \u001B[0;36mimport_module\u001B[0;34m(name, package)\u001B[0m\n\u001B[1;32m     86\u001B[0m             \u001B[38;5;28;01mbreak\u001B[39;00m\n\u001B[1;32m     87\u001B[0m         level \u001B[38;5;241m+\u001B[39m\u001B[38;5;241m=\u001B[39m \u001B[38;5;241m1\u001B[39m\n\u001B[0;32m---> 88\u001B[0m \u001B[38;5;28;01mreturn\u001B[39;00m \u001B[43m_bootstrap\u001B[49m\u001B[38;5;241;43m.\u001B[39;49m\u001B[43m_gcd_import\u001B[49m\u001B[43m(\u001B[49m\u001B[43mname\u001B[49m\u001B[43m[\u001B[49m\u001B[43mlevel\u001B[49m\u001B[43m:\u001B[49m\u001B[43m]\u001B[49m\u001B[43m,\u001B[49m\u001B[43m \u001B[49m\u001B[43mpackage\u001B[49m\u001B[43m,\u001B[49m\u001B[43m \u001B[49m\u001B[43mlevel\u001B[49m\u001B[43m)\u001B[49m\n",
      "File \u001B[0;32m<frozen importlib._bootstrap>:1387\u001B[0m, in \u001B[0;36m_gcd_import\u001B[0;34m(name, package, level)\u001B[0m\n",
      "File \u001B[0;32m<frozen importlib._bootstrap>:1360\u001B[0m, in \u001B[0;36m_find_and_load\u001B[0;34m(name, import_)\u001B[0m\n",
      "File \u001B[0;32m<frozen importlib._bootstrap>:1310\u001B[0m, in \u001B[0;36m_find_and_load_unlocked\u001B[0;34m(name, import_)\u001B[0m\n",
      "File \u001B[0;32m<frozen importlib._bootstrap>:488\u001B[0m, in \u001B[0;36m_call_with_frames_removed\u001B[0;34m(f, *args, **kwds)\u001B[0m\n",
      "File \u001B[0;32m<frozen importlib._bootstrap>:1387\u001B[0m, in \u001B[0;36m_gcd_import\u001B[0;34m(name, package, level)\u001B[0m\n",
      "File \u001B[0;32m<frozen importlib._bootstrap>:1360\u001B[0m, in \u001B[0;36m_find_and_load\u001B[0;34m(name, import_)\u001B[0m\n",
      "File \u001B[0;32m<frozen importlib._bootstrap>:1331\u001B[0m, in \u001B[0;36m_find_and_load_unlocked\u001B[0;34m(name, import_)\u001B[0m\n",
      "File \u001B[0;32m<frozen importlib._bootstrap>:935\u001B[0m, in \u001B[0;36m_load_unlocked\u001B[0;34m(spec)\u001B[0m\n",
      "File \u001B[0;32m<frozen importlib._bootstrap_external>:1026\u001B[0m, in \u001B[0;36mexec_module\u001B[0;34m(self, module)\u001B[0m\n",
      "File \u001B[0;32m<frozen importlib._bootstrap>:488\u001B[0m, in \u001B[0;36m_call_with_frames_removed\u001B[0;34m(f, *args, **kwds)\u001B[0m\n",
      "File \u001B[0;32m/opt/anaconda3/envs/reinforcement-learning/lib/python3.13/site-packages/gymnasium/envs/box2d/__init__.py:1\u001B[0m\n\u001B[0;32m----> 1\u001B[0m \u001B[38;5;28;01mfrom\u001B[39;00m\u001B[38;5;250m \u001B[39m\u001B[38;5;21;01mgymnasium\u001B[39;00m\u001B[38;5;21;01m.\u001B[39;00m\u001B[38;5;21;01menvs\u001B[39;00m\u001B[38;5;21;01m.\u001B[39;00m\u001B[38;5;21;01mbox2d\u001B[39;00m\u001B[38;5;21;01m.\u001B[39;00m\u001B[38;5;21;01mbipedal_walker\u001B[39;00m\u001B[38;5;250m \u001B[39m\u001B[38;5;28;01mimport\u001B[39;00m BipedalWalker, BipedalWalkerHardcore\n\u001B[1;32m      2\u001B[0m \u001B[38;5;28;01mfrom\u001B[39;00m\u001B[38;5;250m \u001B[39m\u001B[38;5;21;01mgymnasium\u001B[39;00m\u001B[38;5;21;01m.\u001B[39;00m\u001B[38;5;21;01menvs\u001B[39;00m\u001B[38;5;21;01m.\u001B[39;00m\u001B[38;5;21;01mbox2d\u001B[39;00m\u001B[38;5;21;01m.\u001B[39;00m\u001B[38;5;21;01mcar_racing\u001B[39;00m\u001B[38;5;250m \u001B[39m\u001B[38;5;28;01mimport\u001B[39;00m CarRacing\n\u001B[1;32m      3\u001B[0m \u001B[38;5;28;01mfrom\u001B[39;00m\u001B[38;5;250m \u001B[39m\u001B[38;5;21;01mgymnasium\u001B[39;00m\u001B[38;5;21;01m.\u001B[39;00m\u001B[38;5;21;01menvs\u001B[39;00m\u001B[38;5;21;01m.\u001B[39;00m\u001B[38;5;21;01mbox2d\u001B[39;00m\u001B[38;5;21;01m.\u001B[39;00m\u001B[38;5;21;01mlunar_lander\u001B[39;00m\u001B[38;5;250m \u001B[39m\u001B[38;5;28;01mimport\u001B[39;00m LunarLander, LunarLanderContinuous\n",
      "File \u001B[0;32m/opt/anaconda3/envs/reinforcement-learning/lib/python3.13/site-packages/gymnasium/envs/box2d/bipedal_walker.py:25\u001B[0m\n\u001B[1;32m     16\u001B[0m     \u001B[38;5;28;01mfrom\u001B[39;00m\u001B[38;5;250m \u001B[39m\u001B[38;5;21;01mBox2D\u001B[39;00m\u001B[38;5;21;01m.\u001B[39;00m\u001B[38;5;21;01mb2\u001B[39;00m\u001B[38;5;250m \u001B[39m\u001B[38;5;28;01mimport\u001B[39;00m (\n\u001B[1;32m     17\u001B[0m         circleShape,\n\u001B[1;32m     18\u001B[0m         contactListener,\n\u001B[0;32m   (...)\u001B[0m\n\u001B[1;32m     22\u001B[0m         revoluteJointDef,\n\u001B[1;32m     23\u001B[0m     )\n\u001B[1;32m     24\u001B[0m \u001B[38;5;28;01mexcept\u001B[39;00m \u001B[38;5;167;01mImportError\u001B[39;00m \u001B[38;5;28;01mas\u001B[39;00m e:\n\u001B[0;32m---> 25\u001B[0m     \u001B[38;5;28;01mraise\u001B[39;00m DependencyNotInstalled(\n\u001B[1;32m     26\u001B[0m         \u001B[38;5;124m'\u001B[39m\u001B[38;5;124mBox2D is not installed, you can install it by run `pip install swig` followed by `pip install \u001B[39m\u001B[38;5;124m\"\u001B[39m\u001B[38;5;124mgymnasium[box2d]\u001B[39m\u001B[38;5;124m\"\u001B[39m\u001B[38;5;124m`\u001B[39m\u001B[38;5;124m'\u001B[39m\n\u001B[1;32m     27\u001B[0m     ) \u001B[38;5;28;01mfrom\u001B[39;00m\u001B[38;5;250m \u001B[39m\u001B[38;5;21;01me\u001B[39;00m\n\u001B[1;32m     30\u001B[0m \u001B[38;5;28;01mif\u001B[39;00m TYPE_CHECKING:\n\u001B[1;32m     31\u001B[0m     \u001B[38;5;28;01mimport\u001B[39;00m\u001B[38;5;250m \u001B[39m\u001B[38;5;21;01mpygame\u001B[39;00m\n",
      "\u001B[0;31mDependencyNotInstalled\u001B[0m: Box2D is not installed, you can install it by run `pip install swig` followed by `pip install \"gymnasium[box2d]\"`"
     ]
    }
   ],
   "execution_count": 3
  },
  {
   "metadata": {
    "ExecuteTime": {
     "end_time": "2025-02-18T23:18:46.618842Z",
     "start_time": "2025-02-18T23:18:44.710581Z"
    }
   },
   "cell_type": "code",
   "source": [
    "!pip install swig\n",
    "!pip install 'gymnasium[box2d]'"
   ],
   "id": "14a31a5f7ed5f3fa",
   "outputs": [
    {
     "name": "stdout",
     "output_type": "stream",
     "text": [
      "Requirement already satisfied: swig in /opt/anaconda3/envs/reinforcement-learning/lib/python3.13/site-packages (4.3.0)\r\n",
      "Requirement already satisfied: gymnasium[box2d] in /opt/anaconda3/envs/reinforcement-learning/lib/python3.13/site-packages (1.0.0)\r\n",
      "Requirement already satisfied: numpy>=1.21.0 in /opt/anaconda3/envs/reinforcement-learning/lib/python3.13/site-packages (from gymnasium[box2d]) (2.2.1)\r\n",
      "Requirement already satisfied: cloudpickle>=1.2.0 in /opt/anaconda3/envs/reinforcement-learning/lib/python3.13/site-packages (from gymnasium[box2d]) (3.0.0)\r\n",
      "Requirement already satisfied: typing-extensions>=4.3.0 in /opt/anaconda3/envs/reinforcement-learning/lib/python3.13/site-packages (from gymnasium[box2d]) (4.12.2)\r\n",
      "Requirement already satisfied: farama-notifications>=0.0.1 in /opt/anaconda3/envs/reinforcement-learning/lib/python3.13/site-packages (from gymnasium[box2d]) (0.0.4)\r\n",
      "Collecting box2d-py==2.3.5 (from gymnasium[box2d])\r\n",
      "  Using cached box2d-py-2.3.5.tar.gz (374 kB)\r\n",
      "  Installing build dependencies ... \u001B[?25ldone\r\n",
      "\u001B[?25h  Getting requirements to build wheel ... \u001B[?25ldone\r\n",
      "\u001B[?25h  Preparing metadata (pyproject.toml) ... \u001B[?25ldone\r\n",
      "\u001B[?25hRequirement already satisfied: pygame>=2.1.3 in /opt/anaconda3/envs/reinforcement-learning/lib/python3.13/site-packages (from gymnasium[box2d]) (2.6.1)\r\n",
      "Requirement already satisfied: swig==4.* in /opt/anaconda3/envs/reinforcement-learning/lib/python3.13/site-packages (from gymnasium[box2d]) (4.3.0)\r\n",
      "Building wheels for collected packages: box2d-py\r\n",
      "  Building wheel for box2d-py (pyproject.toml) ... \u001B[?25lerror\r\n",
      "  \u001B[1;31merror\u001B[0m: \u001B[1msubprocess-exited-with-error\u001B[0m\r\n",
      "  \r\n",
      "  \u001B[31m×\u001B[0m \u001B[32mBuilding wheel for box2d-py \u001B[0m\u001B[1;32m(\u001B[0m\u001B[32mpyproject.toml\u001B[0m\u001B[1;32m)\u001B[0m did not run successfully.\r\n",
      "  \u001B[31m│\u001B[0m exit code: \u001B[1;36m1\u001B[0m\r\n",
      "  \u001B[31m╰─>\u001B[0m \u001B[31m[20 lines of output]\u001B[0m\r\n",
      "  \u001B[31m   \u001B[0m /private/var/folders/j0/tr2332417vjbmj74tfc0dcd40000gn/T/pip-build-env-nvh8_sx5/overlay/lib/python3.13/site-packages/setuptools/_distutils/dist.py:270: UserWarning: Unknown distribution option: 'test_suite'\r\n",
      "  \u001B[31m   \u001B[0m   warnings.warn(msg)\r\n",
      "  \u001B[31m   \u001B[0m Using setuptools (version 75.8.0).\r\n",
      "  \u001B[31m   \u001B[0m running bdist_wheel\r\n",
      "  \u001B[31m   \u001B[0m running build\r\n",
      "  \u001B[31m   \u001B[0m running build_py\r\n",
      "  \u001B[31m   \u001B[0m creating build/lib.macosx-11.0-arm64-cpython-313/Box2D\r\n",
      "  \u001B[31m   \u001B[0m copying library/Box2D/Box2D.py -> build/lib.macosx-11.0-arm64-cpython-313/Box2D\r\n",
      "  \u001B[31m   \u001B[0m copying library/Box2D/__init__.py -> build/lib.macosx-11.0-arm64-cpython-313/Box2D\r\n",
      "  \u001B[31m   \u001B[0m creating build/lib.macosx-11.0-arm64-cpython-313/Box2D/b2\r\n",
      "  \u001B[31m   \u001B[0m copying library/Box2D/b2/__init__.py -> build/lib.macosx-11.0-arm64-cpython-313/Box2D/b2\r\n",
      "  \u001B[31m   \u001B[0m running build_ext\r\n",
      "  \u001B[31m   \u001B[0m building 'Box2D._Box2D' extension\r\n",
      "  \u001B[31m   \u001B[0m swigging Box2D/Box2D.i to Box2D/Box2D_wrap.cpp\r\n",
      "  \u001B[31m   \u001B[0m swig -python -c++ -IBox2D -small -O -includeall -ignoremissing -w201 -globals b2Globals -outdir library/Box2D -keyword -w511 -D_SWIG_KWARGS -o Box2D/Box2D_wrap.cpp Box2D/Box2D.i\r\n",
      "  \u001B[31m   \u001B[0m Traceback (most recent call last):\r\n",
      "  \u001B[31m   \u001B[0m   File \u001B[35m\"/opt/anaconda3/envs/reinforcement-learning/bin/swig\"\u001B[0m, line \u001B[35m5\u001B[0m, in \u001B[35m<module>\u001B[0m\r\n",
      "  \u001B[31m   \u001B[0m     from swig import swig\r\n",
      "  \u001B[31m   \u001B[0m \u001B[1;35mModuleNotFoundError\u001B[0m: \u001B[35mNo module named 'swig'\u001B[0m\r\n",
      "  \u001B[31m   \u001B[0m error: command '/opt/anaconda3/envs/reinforcement-learning/bin/swig' failed with exit code 1\r\n",
      "  \u001B[31m   \u001B[0m \u001B[31m[end of output]\u001B[0m\r\n",
      "  \r\n",
      "  \u001B[1;35mnote\u001B[0m: This error originates from a subprocess, and is likely not a problem with pip.\r\n",
      "\u001B[31m  ERROR: Failed building wheel for box2d-py\u001B[0m\u001B[31m\r\n",
      "\u001B[0m\u001B[?25hFailed to build box2d-py\r\n",
      "\u001B[31mERROR: ERROR: Failed to build installable wheels for some pyproject.toml based projects (box2d-py)\u001B[0m\u001B[31m\r\n",
      "\u001B[0m"
     ]
    }
   ],
   "execution_count": 9
  },
  {
   "metadata": {},
   "cell_type": "code",
   "outputs": [],
   "execution_count": null,
   "source": "",
   "id": "769851b8eff82fec"
  }
 ],
 "metadata": {
  "kernelspec": {
   "display_name": "Python 3",
   "language": "python",
   "name": "python3"
  },
  "language_info": {
   "codemirror_mode": {
    "name": "ipython",
    "version": 2
   },
   "file_extension": ".py",
   "mimetype": "text/x-python",
   "name": "python",
   "nbconvert_exporter": "python",
   "pygments_lexer": "ipython2",
   "version": "2.7.6"
  }
 },
 "nbformat": 4,
 "nbformat_minor": 5
}
