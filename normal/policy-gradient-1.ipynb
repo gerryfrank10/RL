{
 "cells": [
  {
   "cell_type": "code",
   "id": "initial_id",
   "metadata": {
    "collapsed": true,
    "ExecuteTime": {
     "end_time": "2025-04-12T10:22:18.700378Z",
     "start_time": "2025-04-12T10:22:18.696760Z"
    }
   },
   "source": [
    "# TODO.\n",
    "'''\n",
    "Code for Policy Gradient for a grid example for learning\n",
    "'''"
   ],
   "outputs": [
    {
     "data": {
      "text/plain": [
       "'\\nCode for Policy Gradient for a grid example for learning\\n'"
      ]
     },
     "execution_count": 8,
     "metadata": {},
     "output_type": "execute_result"
    }
   ],
   "execution_count": 8
  },
  {
   "metadata": {
    "ExecuteTime": {
     "end_time": "2025-04-12T10:22:20.507583Z",
     "start_time": "2025-04-12T10:22:20.504778Z"
    }
   },
   "cell_type": "code",
   "source": [
    "import numpy as np\n",
    "import torch\n",
    "import torch.nn as nn"
   ],
   "id": "84e97e13049d404d",
   "outputs": [],
   "execution_count": 9
  },
  {
   "metadata": {
    "ExecuteTime": {
     "end_time": "2025-04-12T10:22:21.607720Z",
     "start_time": "2025-04-12T10:22:21.602228Z"
    }
   },
   "cell_type": "code",
   "source": [
    "# GRID INTERFACE GAME\n",
    "class Grid:\n",
    "    def __init__(self, m, n, exit_pos, figure_pos):\n",
    "        super().__init__()\n",
    "        self.m = m\n",
    "        self.n = n\n",
    "        self.exit_pos = exit_pos\n",
    "        self.figure_pos = figure_pos\n",
    "\n",
    "    def move(self, direction):\n",
    "        x, y = self.figure_pos\n",
    "        if direction == 'up':\n",
    "            if y < self.n-1:\n",
    "                self.figure_pos = (x, y+1)\n",
    "        elif direction == 'down':\n",
    "            if y > 0:\n",
    "                self.figure_pos = (x, y-1)\n",
    "        elif direction == 'left':\n",
    "            if x > 0:\n",
    "                self.figure_pos = (x-1, y)\n",
    "        elif direction == 'right':\n",
    "            if x < self.m-1:\n",
    "                self.figure_pos = (x+1, y)\n",
    "\n",
    "    def is_at_exit(self):\n",
    "        return self.figure_pos == self.exit_pos\n",
    "\n",
    "    def get_state(self, device):\n",
    "        return torch.FloatTensor(self.figure_pos).unsqueeze(0).to(device)"
   ],
   "id": "ad2a92d63ad1a402",
   "outputs": [],
   "execution_count": 10
  },
  {
   "metadata": {
    "ExecuteTime": {
     "end_time": "2025-04-12T10:22:22.857827Z",
     "start_time": "2025-04-12T10:22:22.853980Z"
    }
   },
   "cell_type": "code",
   "source": [
    "class Policy(nn.Module):\n",
    "    def __init__(self):\n",
    "        super().__init__()\n",
    "        self.fc1 = nn.Linear(2, 16)\n",
    "        self.fc2 = nn.Linear(16, 4)\n",
    "\n",
    "    def forward(self, x):\n",
    "        x = torch.relu(self.fc1(x))\n",
    "        x = self.fc2(x)\n",
    "        x = nn.functional.softmax(x, dim=1)\n",
    "        return x"
   ],
   "id": "7b6a64178cd42754",
   "outputs": [],
   "execution_count": 11
  },
  {
   "metadata": {
    "ExecuteTime": {
     "end_time": "2025-04-12T10:23:37.154772Z",
     "start_time": "2025-04-12T10:23:37.152761Z"
    }
   },
   "cell_type": "code",
   "source": "actions = ['up', 'down', 'left', 'right']",
   "id": "3275e968ef973aa1",
   "outputs": [],
   "execution_count": 12
  },
  {
   "metadata": {
    "ExecuteTime": {
     "end_time": "2025-04-11T21:57:08.089985Z",
     "start_time": "2025-04-11T21:57:08.087387Z"
    }
   },
   "cell_type": "code",
   "source": [
    "def generate_episode(grid, policy_net, device=\"cpu\", max_episode_len = 100):\n",
    "    state = grid.get_state(device)\n",
    "    ep_length = 0\n",
    "    while not grid.is_at_exit():\n",
    "        # Convert state to tensor and pass through policy network to get action probabilities\n",
    "        ep_length+=1\n",
    "        action_probs = policy_net(state).squeeze()\n",
    "        log_probs = torch.log(action_probs)\n",
    "        cpu_action_probs = action_probs.detach().cpu().numpy()\n",
    "        action = np.random.choice(np.arange(4), p=cpu_action_probs)\n",
    "\n",
    "        # Take the action and get the new state and reward\n",
    "        grid.move(actions[action])\n",
    "        next_state = grid.get_state(device)\n",
    "        reward = -0.1 if not grid.is_at_exit() else 0\n",
    "\n",
    "        # Add the state, action, and reward to the episode\n",
    "        new_episode_sample = (state, action, reward)\n",
    "        yield new_episode_sample, log_probs\n",
    "\n",
    "        # We do not want to add the state, action, and reward for reaching the exit position\n",
    "        if reward == 0:\n",
    "            break\n",
    "\n",
    "        # Update the current state\n",
    "        state = next_state\n",
    "        if ep_length > max_episode_len:\n",
    "            return\n",
    "\n",
    "    # Add the final state, action, and reward for reaching the exit position\n",
    "    new_episode_sample = (grid.get_state(device), None, 0)\n",
    "    yield new_episode_sample, log_probs"
   ],
   "id": "bc0446bd56334d07",
   "outputs": [],
   "execution_count": 5
  },
  {
   "metadata": {
    "ExecuteTime": {
     "end_time": "2025-04-11T21:57:15.663281Z",
     "start_time": "2025-04-11T21:57:15.661201Z"
    }
   },
   "cell_type": "code",
   "source": [
    "def gradients_wrt_params(\n",
    "    net: torch.nn.Module, loss_tensor: torch.Tensor\n",
    "):\n",
    "    # Dictionary to store gradients for each parameter\n",
    "    # Compute gradients with respect to each parameter\n",
    "    for name, param in net.named_parameters():\n",
    "        g = grad(loss_tensor, param, retain_graph=True)[0]\n",
    "        param.grad = g\n",
    "\n",
    "def update_params(net: torch.nn.Module, lr: float) -> None:\n",
    "    # Update parameters for the network\n",
    "    for name, param in net.named_parameters():\n",
    "        param.data += lr * param.grad"
   ],
   "id": "52be734a55e61a1d",
   "outputs": [],
   "execution_count": 6
  },
  {
   "metadata": {
    "ExecuteTime": {
     "end_time": "2025-04-12T10:24:27.286598Z",
     "start_time": "2025-04-12T10:24:27.281293Z"
    }
   },
   "cell_type": "code",
   "source": [
    "device = 'mps' if torch.mps.is_available() else 'cpu'\n",
    "device"
   ],
   "id": "34f3f9d710e8e1e",
   "outputs": [
    {
     "data": {
      "text/plain": [
       "'mps'"
      ]
     },
     "execution_count": 14,
     "metadata": {},
     "output_type": "execute_result"
    }
   ],
   "execution_count": 14
  },
  {
   "metadata": {
    "ExecuteTime": {
     "end_time": "2025-04-11T21:57:24.636975Z",
     "start_time": "2025-04-11T21:57:24.588842Z"
    }
   },
   "cell_type": "code",
   "source": [
    "from tqdm import tqdm\n",
    "\n",
    "policy_net = Policy()\n",
    "policy_net.to(device)\n",
    "\n",
    "lengths = []\n",
    "rewards = []\n",
    "\n",
    "gamma = 0.99\n",
    "lr_policy_net = 2**-13\n",
    "optimizer = torch.optim.Adam(policy_net.parameters(), lr=lr_policy_net)\n",
    "\n",
    "prefix = \"reinforce-per-step\"\n",
    "\n",
    "for episode_num in tqdm(range(2500)):\n",
    "    all_iterations = []\n",
    "    all_log_probs = []\n",
    "    grid = get_good_starting_grid()\n",
    "    episode = list(generate_episode(grid, policy_net=policy_net, device=device))\n",
    "    lengths.append(len(episode))\n",
    "    loss = 0\n",
    "    for t, ((state, action, reward), log_probs) in enumerate(episode[:-1]):\n",
    "        gammas_vec = gamma ** (torch.arange(t+1, len(episode))-t-1)\n",
    "        # Since the reward is -1 for all steps except the last, we can just sum the gammas\n",
    "        G = - torch.sum(gammas_vec)\n",
    "        rewards.append(G.item())\n",
    "        policy_loss = log_probs[action]\n",
    "        optimizer.zero_grad()\n",
    "        gradients_wrt_params(policy_net, policy_loss)\n",
    "        update_params(policy_net, lr_policy_net  * G * gamma**t)"
   ],
   "id": "af210c8eac210f59",
   "outputs": [
    {
     "ename": "NameError",
     "evalue": "name 'PolicyNet' is not defined",
     "output_type": "error",
     "traceback": [
      "\u001B[0;31m---------------------------------------------------------------------------\u001B[0m",
      "\u001B[0;31mNameError\u001B[0m                                 Traceback (most recent call last)",
      "Cell \u001B[0;32mIn[7], line 1\u001B[0m\n\u001B[0;32m----> 1\u001B[0m policy_net \u001B[38;5;241m=\u001B[39m \u001B[43mPolicyNet\u001B[49m()\n\u001B[1;32m      2\u001B[0m policy_net\u001B[38;5;241m.\u001B[39mto(device)\n\u001B[1;32m      4\u001B[0m lengths \u001B[38;5;241m=\u001B[39m []\n",
      "\u001B[0;31mNameError\u001B[0m: name 'PolicyNet' is not defined"
     ]
    }
   ],
   "execution_count": 7
  },
  {
   "metadata": {},
   "cell_type": "code",
   "outputs": [],
   "execution_count": null,
   "source": "",
   "id": "13ad8ef1a1c3ec84"
  }
 ],
 "metadata": {
  "kernelspec": {
   "display_name": "Python 3",
   "language": "python",
   "name": "python3"
  },
  "language_info": {
   "codemirror_mode": {
    "name": "ipython",
    "version": 2
   },
   "file_extension": ".py",
   "mimetype": "text/x-python",
   "name": "python",
   "nbconvert_exporter": "python",
   "pygments_lexer": "ipython2",
   "version": "2.7.6"
  }
 },
 "nbformat": 4,
 "nbformat_minor": 5
}
