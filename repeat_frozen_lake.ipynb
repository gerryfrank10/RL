{
  "nbformat": 4,
  "nbformat_minor": 0,
  "metadata": {
    "colab": {
      "provenance": [],
      "authorship_tag": "ABX9TyNBCjixBd67WQe4+ZgSWOJG",
      "include_colab_link": true
    },
    "kernelspec": {
      "name": "python3",
      "display_name": "Python 3"
    },
    "language_info": {
      "name": "python"
    }
  },
  "cells": [
    {
      "cell_type": "markdown",
      "metadata": {
        "id": "view-in-github",
        "colab_type": "text"
      },
      "source": [
        "<a href=\"https://colab.research.google.com/github/gerryfrank10/RL/blob/main/repeat_frozen_lake.ipynb\" target=\"_parent\"><img src=\"https://colab.research.google.com/assets/colab-badge.svg\" alt=\"Open In Colab\"/></a>"
      ]
    },
    {
      "cell_type": "code",
      "execution_count": 2,
      "metadata": {
        "id": "q8JlpMGRvU3M"
      },
      "outputs": [],
      "source": [
        "import numpy as np\n",
        "import gymnasium as gym\n",
        "import tqdm"
      ]
    },
    {
      "cell_type": "code",
      "source": [
        "env = gym.make('FrozenLake-v1', render_mode='rgb_array', map_name=\"8x8\", is_slippery=False) # What is render_mode"
      ],
      "metadata": {
        "id": "VkyK98S4vZ7k"
      },
      "execution_count": 3,
      "outputs": []
    },
    {
      "cell_type": "markdown",
      "source": [
        "The observation and action numbers"
      ],
      "metadata": {
        "id": "Ni7wGCDxv4ne"
      }
    },
    {
      "cell_type": "code",
      "source": [
        "env.observation_space.n, env.action_space.n"
      ],
      "metadata": {
        "colab": {
          "base_uri": "https://localhost:8080/"
        },
        "id": "AunIOKQovnr3",
        "outputId": "7fe35c83-cce1-41b5-8609-aad1bcb363d6"
      },
      "execution_count": 4,
      "outputs": [
        {
          "output_type": "execute_result",
          "data": {
            "text/plain": [
              "(np.int64(64), np.int64(4))"
            ]
          },
          "metadata": {},
          "execution_count": 4
        }
      ]
    },
    {
      "cell_type": "markdown",
      "source": [
        "The action and observation random sample"
      ],
      "metadata": {
        "id": "QaPH8DREwBRS"
      }
    },
    {
      "cell_type": "code",
      "source": [
        "env.observation_space.sample(), env.action_space.sample()"
      ],
      "metadata": {
        "colab": {
          "base_uri": "https://localhost:8080/"
        },
        "id": "Fg1JJOnuvsur",
        "outputId": "338ae61b-13a3-43ce-abab-b8758e3f53d5"
      },
      "execution_count": 5,
      "outputs": [
        {
          "output_type": "execute_result",
          "data": {
            "text/plain": [
              "(np.int64(36), np.int64(0))"
            ]
          },
          "metadata": {},
          "execution_count": 5
        }
      ]
    },
    {
      "cell_type": "code",
      "source": [
        "# Using Q learning approach to solve this\n",
        "state_space = env.observation_space.n\n",
        "action_space = env.action_space.n\n",
        "Q_table = np.zeros((state_space, action_space))"
      ],
      "metadata": {
        "id": "TzX6lKwVwAhj"
      },
      "execution_count": 6,
      "outputs": []
    },
    {
      "cell_type": "code",
      "source": [
        "epsilon_greedy = lambda state, epsilon: np.argmax(Q_table[state][:]) if np.random.uniform(0,1) > epsilon else env.action_space.sample()"
      ],
      "metadata": {
        "id": "9r7EJQi9wvyE"
      },
      "execution_count": 7,
      "outputs": []
    },
    {
      "cell_type": "code",
      "source": [
        "n_episodes = 10000\n",
        "learning_rate = 0.7\n",
        "n_eval_episodes = 100\n",
        "max_steps = 99\n",
        "gamma = 0.95\n",
        "eval_seed = []\n",
        "max_epsilon = 1.0\n",
        "min_epsilon = 0.05\n",
        "decay_rate = 0.0005"
      ],
      "metadata": {
        "id": "4L4Sxso0xJwb"
      },
      "execution_count": 8,
      "outputs": []
    },
    {
      "cell_type": "code",
      "source": [
        "def train(n_episodes, learning_rate, max_steps, gamma, epsilon_greedy, Qtable):\n",
        "  for episode in tqdm.tqdm(range(n_episodes)):\n",
        "    epsilon = min_epsilon + (max_epsilon - min_epsilon) * np.exp(-decay_rate * episode)\n",
        "    state, info = env.reset()\n",
        "    step = 0\n",
        "    terminated = False\n",
        "    truncated = False\n",
        "    for step in range(max_steps):\n",
        "      action = epsilon_greedy(state, epsilon)\n",
        "      new_state, reward, terminated, truncated, info = env.step(action)\n",
        "      Qtable[state][action] = Qtable[state][action] + learning_rate * (reward + gamma * np.max(Qtable[new_state]) - Qtable[state][action])\n",
        "      if terminated or truncated: break\n",
        "      state = new_state\n",
        "  return Qtable"
      ],
      "metadata": {
        "id": "cdyDZYVxxvpM"
      },
      "execution_count": 9,
      "outputs": []
    },
    {
      "cell_type": "code",
      "source": [
        "Qtable_frozenlake = train(n_episodes=20000, gamma=0.95, learning_rate=0.01, max_steps=99, epsilon_greedy=epsilon_greedy, Qtable=Q_table)"
      ],
      "metadata": {
        "colab": {
          "base_uri": "https://localhost:8080/"
        },
        "id": "TiwZOVM6yUhU",
        "outputId": "d57455c0-653f-416b-caa2-32758ff5fa46"
      },
      "execution_count": 10,
      "outputs": [
        {
          "output_type": "stream",
          "name": "stderr",
          "text": [
            "100%|██████████| 20000/20000 [01:10<00:00, 282.98it/s]\n"
          ]
        }
      ]
    },
    {
      "cell_type": "markdown",
      "source": [
        "## Record Video"
      ],
      "metadata": {
        "id": "BeDfK_dIyj1w"
      }
    },
    {
      "cell_type": "code",
      "source": [
        "import imageio\n",
        "def record_video(env, Qtable, out_directory, fps=1):\n",
        "  \"\"\"\n",
        "  \"\"\"\n",
        "  images = []\n",
        "  terminated = False\n",
        "  truncated = False\n",
        "  state, info = env.reset(seed=np.random.randint(0,500))\n",
        "  img = env.render()\n",
        "  images.append(img)\n",
        "  while not terminated or truncated:\n",
        "    action = np.argmax(Qtable[state][:])\n",
        "    state, reward, terminated, truncated, info = env.step(action)\n",
        "    img = env.render()\n",
        "    images.append(img)\n",
        "  imageio.mimsave(out_directory, [np.array(img) for i, img in enumerate(images)], fps=fps)"
      ],
      "metadata": {
        "id": "XsH_GfybybYH"
      },
      "execution_count": 11,
      "outputs": []
    },
    {
      "cell_type": "code",
      "source": [
        "video_path = 'repeat-frozen2.mp4'\n",
        "record_video(env, Qtable_frozenlake, video_path, fps=1)"
      ],
      "metadata": {
        "id": "QNnW1U9ay2rZ"
      },
      "execution_count": null,
      "outputs": []
    },
    {
      "cell_type": "code",
      "source": [],
      "metadata": {
        "id": "6geSAx1wy_1v"
      },
      "execution_count": null,
      "outputs": []
    }
  ]
}