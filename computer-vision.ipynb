{
 "cells": [
  {
   "metadata": {},
   "cell_type": "markdown",
   "source": [
    "# PYTORCH FOR COMPUTER VISION\n",
    "\n",
    "## Computer Vision libraries in Pytorch\n",
    "\n",
    "1. torchvision\n",
    "2. torchvision.datasets\n",
    "3. torchvision.models\n",
    "4. torchvision.transforms\n",
    "5. torch.utils.data.Dataset\n",
    "6. torch.utils.data.DataLoader"
   ],
   "id": "de478cf81f0c98aa"
  },
  {
   "metadata": {
    "ExecuteTime": {
     "end_time": "2025-03-05T15:50:22.025323Z",
     "start_time": "2025-03-05T15:50:22.022698Z"
    }
   },
   "cell_type": "code",
   "source": "print(1)",
   "id": "feae7ab7dac11ea2",
   "outputs": [
    {
     "name": "stdout",
     "output_type": "stream",
     "text": [
      "1\n"
     ]
    }
   ],
   "execution_count": 2
  }
 ],
 "metadata": {
  "kernelspec": {
   "display_name": "Python 3",
   "language": "python",
   "name": "python3"
  },
  "language_info": {
   "codemirror_mode": {
    "name": "ipython",
    "version": 2
   },
   "file_extension": ".py",
   "mimetype": "text/x-python",
   "name": "python",
   "nbconvert_exporter": "python",
   "pygments_lexer": "ipython2",
   "version": "2.7.6"
  }
 },
 "nbformat": 4,
 "nbformat_minor": 5
}
