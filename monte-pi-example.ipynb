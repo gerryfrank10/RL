{
 "cells": [
  {
   "cell_type": "code",
   "id": "initial_id",
   "metadata": {
    "collapsed": true,
    "ExecuteTime": {
     "end_time": "2025-01-28T12:59:52.449885Z",
     "start_time": "2025-01-28T12:59:52.446735Z"
    }
   },
   "source": [
    "import random\n",
    "import math"
   ],
   "outputs": [],
   "execution_count": 2
  },
  {
   "metadata": {
    "ExecuteTime": {
     "end_time": "2025-01-28T12:59:53.715986Z",
     "start_time": "2025-01-28T12:59:53.380195Z"
    }
   },
   "cell_type": "code",
   "source": [
    "num_points = 1_000_000\n",
    "inside_circle = 0\n",
    "\n",
    "for _ in range(num_points):\n",
    "    x,y = random.uniform(-1,1), random.uniform(-1,1)\n",
    "\n",
    "    if math.sqrt(x**2 + y**2) <= 1:\n",
    "        inside_circle += 1\n",
    "pi_estimate = (inside_circle/num_points) * 4\n",
    "print(f'The estimated pi is: {pi_estimate}')"
   ],
   "id": "e8236ccb03efe812",
   "outputs": [
    {
     "name": "stdout",
     "output_type": "stream",
     "text": [
      "The estimated pi is: 3.140732\n"
     ]
    }
   ],
   "execution_count": 3
  },
  {
   "metadata": {
    "ExecuteTime": {
     "end_time": "2025-01-28T12:59:54.750448Z",
     "start_time": "2025-01-28T12:59:54.663286Z"
    }
   },
   "cell_type": "code",
   "source": [
    "import gymnasium as gym\n",
    "env = gym.make('FrozenLake-v1', is_slippery=False, render_mode='human')"
   ],
   "id": "60cc9ca32a346c07",
   "outputs": [],
   "execution_count": 4
  },
  {
   "metadata": {
    "ExecuteTime": {
     "end_time": "2025-01-28T12:59:55.248377Z",
     "start_time": "2025-01-28T12:59:55.244477Z"
    }
   },
   "cell_type": "code",
   "source": [
    "print(f'Action space: {env.action_space}')\n",
    "print(f'Observation space: {env.observation_space}')"
   ],
   "id": "88c4038f3aea4598",
   "outputs": [
    {
     "name": "stdout",
     "output_type": "stream",
     "text": [
      "Action space: Discrete(4)\n",
      "Observation space: Discrete(16)\n"
     ]
    }
   ],
   "execution_count": 5
  },
  {
   "metadata": {
    "ExecuteTime": {
     "end_time": "2025-01-28T12:58:52.937562Z",
     "start_time": "2025-01-28T12:58:51.940628Z"
    }
   },
   "cell_type": "code",
   "source": [
    "env.reset()\n",
    "env.render()"
   ],
   "id": "23b4e329b880a436",
   "outputs": [
    {
     "name": "stderr",
     "output_type": "stream",
     "text": [
      "2025-01-28 12:58:52.482 python[1229:21855] +[IMKClient subclass]: chose IMKClient_Modern\n",
      "2025-01-28 12:58:52.482 python[1229:21855] +[IMKInputSession subclass]: chose IMKInputSession_Modern\n"
     ]
    }
   ],
   "execution_count": 15
  },
  {
   "metadata": {
    "ExecuteTime": {
     "end_time": "2025-01-28T13:09:07.000221Z",
     "start_time": "2025-01-28T13:09:06.996038Z"
    }
   },
   "cell_type": "code",
   "source": [
    "optimial_policy = [\"R/D\",\"R\",\"D\",\"L\",\n",
    "                   \"D\", \"-\", \"D\", \"-\",\n",
    "                   \"R\", \"R/D\", \"D\", \"-\",\n",
    "                   \"-\", \"R\", \"R\", \"!\"]\n",
    "# Getting the indexes of the grid 4x4\n",
    "idxs = [i * 4 for i in range(4)]\n",
    "for idx in idxs:\n",
    "    print(optimial_policy[idx + 0 ], optimial_policy[idx + 1 ], optimial_policy[idx + 2 ], optimial_policy[idx + 3] )"
   ],
   "id": "f5e08f9c1844e9bb",
   "outputs": [
    {
     "name": "stdout",
     "output_type": "stream",
     "text": [
      "R/D R D L\n",
      "D - D -\n",
      "R R/D D -\n",
      "- R R !\n"
     ]
    }
   ],
   "execution_count": 7
  },
  {
   "metadata": {
    "ExecuteTime": {
     "end_time": "2025-01-28T13:12:40.528342Z",
     "start_time": "2025-01-28T13:12:40.523624Z"
    }
   },
   "cell_type": "code",
   "source": [
    "idxs = [i * 4 for i in range(4)]\n",
    "idxs"
   ],
   "id": "458f1e0b7259ef39",
   "outputs": [
    {
     "data": {
      "text/plain": [
       "[0, 4, 8, 12]"
      ]
     },
     "execution_count": 10,
     "metadata": {},
     "output_type": "execute_result"
    }
   ],
   "execution_count": 10
  },
  {
   "metadata": {},
   "cell_type": "code",
   "outputs": [],
   "execution_count": null,
   "source": "",
   "id": "8c8c87f7de4095a4"
  }
 ],
 "metadata": {
  "kernelspec": {
   "display_name": "Python 3",
   "language": "python",
   "name": "python3"
  },
  "language_info": {
   "codemirror_mode": {
    "name": "ipython",
    "version": 2
   },
   "file_extension": ".py",
   "mimetype": "text/x-python",
   "name": "python",
   "nbconvert_exporter": "python",
   "pygments_lexer": "ipython2",
   "version": "2.7.6"
  }
 },
 "nbformat": 4,
 "nbformat_minor": 5
}
