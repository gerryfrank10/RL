{
 "cells": [
  {
   "metadata": {},
   "cell_type": "markdown",
   "source": [
    "# The Processes include\n",
    "- Getting data ready\n",
    "- Building a model\n",
    "- Fitting data to model\n",
    "- Making Predictions and evaluating a model\n",
    "- Saving and loading a model\n",
    "- Putting it all together"
   ],
   "id": "84895ae42614297a"
  },
  {
   "metadata": {
    "ExecuteTime": {
     "end_time": "2025-03-04T22:03:14.620999Z",
     "start_time": "2025-03-04T22:03:13.746859Z"
    }
   },
   "cell_type": "code",
   "source": [
    "import os\n",
    "\n",
    "import torch\n",
    "from torch import nn\n",
    "import matplotlib.pyplot as plt\n",
    "\n",
    "torch.__version__"
   ],
   "id": "16d7a8bd99cbc19d",
   "outputs": [
    {
     "data": {
      "text/plain": [
       "'2.5.1'"
      ]
     },
     "execution_count": 2,
     "metadata": {},
     "output_type": "execute_result"
    }
   ],
   "execution_count": 2
  },
  {
   "metadata": {
    "ExecuteTime": {
     "end_time": "2025-03-04T22:14:43.755938Z",
     "start_time": "2025-03-04T22:14:43.750965Z"
    }
   },
   "cell_type": "code",
   "source": [
    "# Create *known* parameters\n",
    "weight = 0.7\n",
    "bias = 0.3\n",
    "\n",
    "# Create data\n",
    "start = 0\n",
    "end = 1\n",
    "step = 0.02\n",
    "X = torch.arange(start, end, step).unsqueeze(dim=1)\n",
    "y = weight * X + bias\n",
    "\n",
    "X[:10], y[:10]"
   ],
   "id": "177c3887e0cb36cc",
   "outputs": [
    {
     "data": {
      "text/plain": [
       "(tensor([[0.0000],\n",
       "         [0.0200],\n",
       "         [0.0400],\n",
       "         [0.0600],\n",
       "         [0.0800],\n",
       "         [0.1000],\n",
       "         [0.1200],\n",
       "         [0.1400],\n",
       "         [0.1600],\n",
       "         [0.1800]]),\n",
       " tensor([[0.3000],\n",
       "         [0.3140],\n",
       "         [0.3280],\n",
       "         [0.3420],\n",
       "         [0.3560],\n",
       "         [0.3700],\n",
       "         [0.3840],\n",
       "         [0.3980],\n",
       "         [0.4120],\n",
       "         [0.4260]]))"
      ]
     },
     "execution_count": 5,
     "metadata": {},
     "output_type": "execute_result"
    }
   ],
   "execution_count": 5
  },
  {
   "metadata": {
    "ExecuteTime": {
     "end_time": "2025-03-04T22:15:40.311943Z",
     "start_time": "2025-03-04T22:15:40.307150Z"
    }
   },
   "cell_type": "code",
   "source": [
    "train_split = int(0.8 * len(X))\n",
    "X_train, y_train = X[:train_split], y[:train_split]\n",
    "X_test, y_test = X[train_split:], y[train_split:]\n",
    "\n",
    "len(X_train), len(y_train), len(X_test), len(y_test)"
   ],
   "id": "3bb0805bd3e64736",
   "outputs": [
    {
     "data": {
      "text/plain": [
       "(40, 40, 10, 10)"
      ]
     },
     "execution_count": 6,
     "metadata": {},
     "output_type": "execute_result"
    }
   ],
   "execution_count": 6
  },
  {
   "metadata": {
    "ExecuteTime": {
     "end_time": "2025-03-04T22:18:54.552080Z",
     "start_time": "2025-03-04T22:18:54.547665Z"
    }
   },
   "cell_type": "code",
   "source": [
    "def plot_predictions(train_data=X_train,\n",
    "                     train_labels=y_train,\n",
    "                     test_data=X_test,\n",
    "                     test_labels=y_test,\n",
    "                     predictions=None):\n",
    "    \"\"\"\n",
    "    Plot training data, testing data and compare predictions.\n",
    "    :param train_data:\n",
    "    :param train_labels:\n",
    "    :param test_data:\n",
    "    :param test_labels:\n",
    "    :param predictions:\n",
    "    :return:\n",
    "    \"\"\"\n",
    "    plt.figure(figsize=(12, 8))\n",
    "    plt.scatter(train_data, train_labels, c='b', s=4, label='training data')\n",
    "    plt.scatter(test_data, test_labels, c='r', s=4, label='testing data')\n",
    "    if predictions is not None: plt.scatter(test_data, predictions, c='g', s=4, label='predictions')\n",
    "    plt.legend(prop={'size': 8});"
   ],
   "id": "87f0d3b1b6c453a8",
   "outputs": [],
   "execution_count": 7
  },
  {
   "metadata": {
    "ExecuteTime": {
     "end_time": "2025-03-04T22:19:04.756592Z",
     "start_time": "2025-03-04T22:19:04.674059Z"
    }
   },
   "cell_type": "code",
   "source": "plot_predictions(X_train, y_train, X_test, y_test)",
   "id": "56501b2fbba313e7",
   "outputs": [
    {
     "data": {
      "text/plain": [
       "<Figure size 1200x800 with 1 Axes>"
      ],
      "image/png": "[encoded data removed]"
     },
     "metadata": {},
     "output_type": "display_data"
    }
   ],
   "execution_count": 8
  },
  {
   "metadata": {},
   "cell_type": "markdown",
   "source": "## Building the Model",
   "id": "a15ea1b5c484f1e5"
  },
  {
   "metadata": {
    "ExecuteTime": {
     "end_time": "2025-03-04T23:05:48.648448Z",
     "start_time": "2025-03-04T23:05:48.643734Z"
    }
   },
   "cell_type": "code",
   "source": [
    "class LinearRegression(nn.Module):\n",
    "    def __init__(self):\n",
    "        super().__init__()\n",
    "        self.weight = nn.Parameter(torch.randn(1, dtype=torch.float, requires_grad=True))\n",
    "        self.bias = nn.Parameter(torch.randn(1, dtype=torch.float, requires_grad=True))\n",
    "\n",
    "    def forward(self, x: torch.Tensor) -> torch.Tensor:\n",
    "        return self.weight * x + self.bias"
   ],
   "id": "2fa4c57b1cad6d1c",
   "outputs": [],
   "execution_count": 25
  },
  {
   "metadata": {
    "ExecuteTime": {
     "end_time": "2025-03-04T23:05:49.131536Z",
     "start_time": "2025-03-04T23:05:49.126836Z"
    }
   },
   "cell_type": "code",
   "source": [
    "torch.manual_seed(42)\n",
    "model_0 = LinearRegression()\n",
    "list(model_0.parameters())"
   ],
   "id": "36662a9cf73f80dc",
   "outputs": [
    {
     "data": {
      "text/plain": [
       "[Parameter containing:\n",
       " tensor([0.3367], requires_grad=True),\n",
       " Parameter containing:\n",
       " tensor([0.1288], requires_grad=True)]"
      ]
     },
     "execution_count": 26,
     "metadata": {},
     "output_type": "execute_result"
    }
   ],
   "execution_count": 26
  },
  {
   "metadata": {
    "ExecuteTime": {
     "end_time": "2025-03-04T23:05:49.854512Z",
     "start_time": "2025-03-04T23:05:49.849681Z"
    }
   },
   "cell_type": "code",
   "source": "model_0.state_dict()",
   "id": "2ba668af9a62a9b3",
   "outputs": [
    {
     "data": {
      "text/plain": [
       "OrderedDict([('weight', tensor([0.3367])), ('bias', tensor([0.1288]))])"
      ]
     },
     "execution_count": 27,
     "metadata": {},
     "output_type": "execute_result"
    }
   ],
   "execution_count": 27
  },
  {
   "metadata": {
    "ExecuteTime": {
     "end_time": "2025-03-04T23:05:50.315776Z",
     "start_time": "2025-03-04T23:05:50.313112Z"
    }
   },
   "cell_type": "code",
   "source": [
    "with torch.inference_mode():\n",
    "    y_preds = model_0.forward(X_test)"
   ],
   "id": "3fe2f89a35b8c6ec",
   "outputs": [],
   "execution_count": 28
  },
  {
   "metadata": {
    "ExecuteTime": {
     "end_time": "2025-03-04T23:05:51.028776Z",
     "start_time": "2025-03-04T23:05:51.024217Z"
    }
   },
   "cell_type": "code",
   "source": "y_preds",
   "id": "2f21799aa6d306f4",
   "outputs": [
    {
     "data": {
      "text/plain": [
       "tensor([[0.3982],\n",
       "        [0.4049],\n",
       "        [0.4116],\n",
       "        [0.4184],\n",
       "        [0.4251],\n",
       "        [0.4318],\n",
       "        [0.4386],\n",
       "        [0.4453],\n",
       "        [0.4520],\n",
       "        [0.4588]])"
      ]
     },
     "execution_count": 29,
     "metadata": {},
     "output_type": "execute_result"
    }
   ],
   "execution_count": 29
  },
  {
   "metadata": {
    "ExecuteTime": {
     "end_time": "2025-03-04T23:05:51.907987Z",
     "start_time": "2025-03-04T23:05:51.820197Z"
    }
   },
   "cell_type": "code",
   "source": "plot_predictions(X_train, y_train, X_test, y_test, predictions=y_preds)",
   "id": "2c9760f760700762",
   "outputs": [
    {
     "data": {
      "text/plain": [
       "<Figure size 1200x800 with 1 Axes>"
      ],
      "image/png": "[encoded data removed]"
     },
     "metadata": {},
     "output_type": "display_data"
    }
   ],
   "execution_count": 30
  },
  {
   "metadata": {},
   "cell_type": "markdown",
   "source": "## Training our model",
   "id": "e18c2a053198658c"
  },
  {
   "metadata": {
    "ExecuteTime": {
     "end_time": "2025-03-04T23:05:53.817277Z",
     "start_time": "2025-03-04T23:05:53.813345Z"
    }
   },
   "cell_type": "code",
   "source": [
    "# Loss function\n",
    "loss_fn = nn.L1Loss()\n",
    "# Optimizer\n",
    "optimizer = torch.optim.SGD(params=model_0.parameters(), lr=0.01)"
   ],
   "id": "8f78f2cce7a7b898",
   "outputs": [],
   "execution_count": 31
  },
  {
   "metadata": {
    "ExecuteTime": {
     "end_time": "2025-03-04T23:05:55.047053Z",
     "start_time": "2025-03-04T23:05:55.028021Z"
    }
   },
   "cell_type": "code",
   "source": [
    "# Training and testing loop\n",
    "torch.manual_seed(42)\n",
    "epochs = 100\n",
    "train_loss_values = []\n",
    "test_loss_values = []\n",
    "epoch_counts = []\n",
    "for epoch in range(epochs):\n",
    "    # Put model in training mode\n",
    "    model_0.train()\n",
    "    # 1. Forward Pass the training data using forward()\n",
    "    y_pred = model_0(X_train)\n",
    "    # 2. Calculate loss\n",
    "    loss = loss_fn(y_pred, y_train)\n",
    "    # 3. Zero grad for optimizer\n",
    "    optimizer.zero_grad()\n",
    "    # 4. Loss Backwards\n",
    "    loss.backward()\n",
    "    # Progress the optimizer\n",
    "    optimizer.step()\n",
    "\n",
    "    # Testing mode\n",
    "    model_0.eval()\n",
    "    with torch.inference_mode():\n",
    "        # Forward pass the test data\n",
    "        test_pred = model_0(X_test)\n",
    "        # 2. calculate test loss\n",
    "        test_loss = loss_fn(test_pred, y_test.type(torch.float)) # Predictions come in float data type\n",
    "\n",
    "        # Print what is happening\n",
    "        if epoch % 10 == 0:\n",
    "            epoch_counts.append(epoch)\n",
    "            train_loss_values.append(loss.detach().numpy())\n",
    "            test_loss_values.append(test_loss.detach().numpy())\n",
    "            print(f'Epoch: {epoch}, Train Loss: {loss}, Test Loss: {test_loss}')"
   ],
   "id": "1affdb5b700089f4",
   "outputs": [
    {
     "name": "stdout",
     "output_type": "stream",
     "text": [
      "Epoch: 0, Train Loss: 0.31288138031959534, Test Loss: 0.48106518387794495\n",
      "Epoch: 10, Train Loss: 0.1976713240146637, Test Loss: 0.3463551998138428\n",
      "Epoch: 20, Train Loss: 0.08908725529909134, Test Loss: 0.21729660034179688\n",
      "Epoch: 30, Train Loss: 0.053148526698350906, Test Loss: 0.14464017748832703\n",
      "Epoch: 40, Train Loss: 0.04543796554207802, Test Loss: 0.11360953003168106\n",
      "Epoch: 50, Train Loss: 0.04167863354086876, Test Loss: 0.09919948130846024\n",
      "Epoch: 60, Train Loss: 0.03818932920694351, Test Loss: 0.08886633068323135\n",
      "Epoch: 70, Train Loss: 0.03476089984178543, Test Loss: 0.0805937647819519\n",
      "Epoch: 80, Train Loss: 0.03132382780313492, Test Loss: 0.07232122868299484\n",
      "Epoch: 90, Train Loss: 0.02788740023970604, Test Loss: 0.06473556160926819\n"
     ]
    }
   ],
   "execution_count": 32
  },
  {
   "metadata": {
    "ExecuteTime": {
     "end_time": "2025-03-04T23:06:21.049132Z",
     "start_time": "2025-03-04T23:06:21.002510Z"
    }
   },
   "cell_type": "code",
   "source": [
    "plt.plot(epoch_counts, train_loss_values, label='Train Loss')\n",
    "plt.plot(epoch_counts, test_loss_values, label='Test Loss')\n",
    "plt.legend()\n",
    "plt.show()"
   ],
   "id": "9c12ba7d62218c74",
   "outputs": [
    {
     "data": {
      "text/plain": [
       "<Figure size 640x480 with 1 Axes>"
      ],
      "image/png": "[encoded data removed]"
     },
     "metadata": {},
     "output_type": "display_data"
    }
   ],
   "execution_count": 33
  },
  {
   "metadata": {
    "ExecuteTime": {
     "end_time": "2025-03-04T23:07:41.466866Z",
     "start_time": "2025-03-04T23:07:41.463761Z"
    }
   },
   "cell_type": "code",
   "source": [
    "# Getting the updated model parameters\n",
    "print(f'Model Parameters: {model_0.state_dict()}')\n",
    "print(f'Original Parameters weight: {weight} and bias: {bias}')"
   ],
   "id": "2cbc71e4f0839dbe",
   "outputs": [
    {
     "name": "stdout",
     "output_type": "stream",
     "text": [
      "Model Parameters: OrderedDict({'weight': tensor([0.5784]), 'bias': tensor([0.3513])})\n",
      "Original Parameters weight: 0.7 and bias: 0.3\n"
     ]
    }
   ],
   "execution_count": 35
  },
  {
   "metadata": {
    "ExecuteTime": {
     "end_time": "2025-03-04T23:08:47.349718Z",
     "start_time": "2025-03-04T23:08:47.345140Z"
    }
   },
   "cell_type": "code",
   "source": [
    "model_0.eval()\n",
    "with torch.inference_mode():\n",
    "    y_preds = model_0(X_test)\n",
    "y_preds"
   ],
   "id": "e085224e67632c31",
   "outputs": [
    {
     "data": {
      "text/plain": [
       "tensor([[0.8141],\n",
       "        [0.8256],\n",
       "        [0.8372],\n",
       "        [0.8488],\n",
       "        [0.8603],\n",
       "        [0.8719],\n",
       "        [0.8835],\n",
       "        [0.8950],\n",
       "        [0.9066],\n",
       "        [0.9182]])"
      ]
     },
     "execution_count": 36,
     "metadata": {},
     "output_type": "execute_result"
    }
   ],
   "execution_count": 36
  },
  {
   "metadata": {
    "ExecuteTime": {
     "end_time": "2025-03-04T23:08:53.432166Z",
     "start_time": "2025-03-04T23:08:53.359140Z"
    }
   },
   "cell_type": "code",
   "source": "plot_predictions(X_train, y_train, X_test, y_test, predictions=y_preds)",
   "id": "6a851bbab3eb2e6e",
   "outputs": [
    {
     "data": {
      "text/plain": [
       "<Figure size 1200x800 with 1 Axes>"
      ],
      "image/png": "[encoded data removed]"
     },
     "metadata": {},
     "output_type": "display_data"
    }
   ],
   "execution_count": 37
  },
  {
   "metadata": {},
   "cell_type": "markdown",
   "source": "## Saving the model and loading",
   "id": "940163b928b6e3ef"
  },
  {
   "metadata": {
    "ExecuteTime": {
     "end_time": "2025-03-04T23:11:27.317074Z",
     "start_time": "2025-03-04T23:11:27.311423Z"
    }
   },
   "cell_type": "code",
   "source": [
    "from pathlib import Path\n",
    "# 1. Create model directory\n",
    "MODEL_PATH = Path('models')\n",
    "MODEL_PATH.mkdir(parents=True, exist_ok=True)\n",
    "\n",
    "# 2. create model save path\n",
    "MODEL_NAME = 'workflow.pth'\n",
    "MODEL_SAVE_PATH = MODEL_PATH / MODEL_NAME\n",
    "print(f'Saving model to: {MODEL_SAVE_PATH}')\n",
    "torch.save(obj=model_0.state_dict(), f=MODEL_SAVE_PATH)"
   ],
   "id": "abc113808c4b9228",
   "outputs": [
    {
     "name": "stdout",
     "output_type": "stream",
     "text": [
      "Saving model to: models/workflow.pth\n"
     ]
    }
   ],
   "execution_count": 39
  },
  {
   "metadata": {},
   "cell_type": "markdown",
   "source": "## Loading the model",
   "id": "312cf9596865779d"
  },
  {
   "metadata": {
    "ExecuteTime": {
     "end_time": "2025-03-04T23:13:35.283550Z",
     "start_time": "2025-03-04T23:13:35.276554Z"
    }
   },
   "cell_type": "code",
   "source": [
    "# Instantiate new instance of the model\n",
    "loaded_model = LinearRegression()\n",
    "loaded_model.load_state_dict(torch.load(f=MODEL_SAVE_PATH))"
   ],
   "id": "a5758e5362eb900b",
   "outputs": [
    {
     "name": "stderr",
     "output_type": "stream",
     "text": [
      "/var/folders/j0/tr2332417vjbmj74tfc0dcd40000gn/T/ipykernel_18313/4120300132.py:3: FutureWarning: You are using `torch.load` with `weights_only=False` (the current default value), which uses the default pickle module implicitly. It is possible to construct malicious pickle data which will execute arbitrary code during unpickling (See https://github.com/pytorch/pytorch/blob/main/SECURITY.md#untrusted-models for more details). In a future release, the default value for `weights_only` will be flipped to `True`. This limits the functions that could be executed during unpickling. Arbitrary objects will no longer be allowed to be loaded via this mode unless they are explicitly allowlisted by the user via `torch.serialization.add_safe_globals`. We recommend you start setting `weights_only=True` for any use case where you don't have full control of the loaded file. Please open an issue on GitHub for any issues related to this experimental feature.\n",
      "  loaded_model.load_state_dict(torch.load(f=MODEL_SAVE_PATH))\n"
     ]
    },
    {
     "data": {
      "text/plain": [
       "<All keys matched successfully>"
      ]
     },
     "execution_count": 41,
     "metadata": {},
     "output_type": "execute_result"
    }
   ],
   "execution_count": 41
  },
  {
   "metadata": {},
   "cell_type": "code",
   "outputs": [],
   "execution_count": null,
   "source": "",
   "id": "41c0911ca46e714a"
  }
 ],
 "metadata": {
  "kernelspec": {
   "display_name": "Python 3",
   "language": "python",
   "name": "python3"
  },
  "language_info": {
   "codemirror_mode": {
    "name": "ipython",
    "version": 2
   },
   "file_extension": ".py",
   "mimetype": "text/x-python",
   "name": "python",
   "nbconvert_exporter": "python",
   "pygments_lexer": "ipython2",
   "version": "2.7.6"
  }
 },
 "nbformat": 4,
 "nbformat_minor": 5
}
